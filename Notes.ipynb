{
 "cells": [
  {
   "cell_type": "code",
   "execution_count": null,
   "id": "61b8df50-5083-46f5-bd51-8a341d9b47e4",
   "metadata": {},
   "outputs": [],
   "source": [
    "#Train test split\n",
    "import pandas as pd\n",
    "from sklearn.model_selection import train_test_split\n",
    "\n",
    "# Assume df is your original DataFrame with 'target' as the label column\n",
    "\n",
    "# Split the dataset into two subsets based on the target label\n",
    "df_class_0 = df[df['target'] == 0]\n",
    "df_class_1 = df[df['target'] == 1]\n",
    "\n",
    "# Perform EDA separately on df_class_0 and df_class_1 here\n",
    "\n",
    "# After EDA, merge the subsets back together, with class 0 data first\n",
    "df_merged = pd.concat([df_class_0, df_class_1])\n",
    "\n",
    "# Extract features and labels\n",
    "X = df_merged.drop(columns=['target'])\n",
    "y = df_merged['target']\n",
    "\n",
    "# Perform a stratified train-test split to maintain the class distribution\n",
    "X_train, X_test, y_train, y_test = train_test_split(X, y, test_size=0.2, stratify=y, random_state=42)\n",
    "\n",
    "# Check the class distribution in the train and test sets\n",
    "print(f\"Training set class distribution: {y_train.value_counts(normalize=True)}\")\n",
    "print(f\"Test set class distribution: {y_test.value_counts(normalize=True)}\")\n"
   ]
  },
  {
   "cell_type": "markdown",
   "id": "ec2b470c-b69f-4058-b865-fe3ae69def1a",
   "metadata": {},
   "source": [
    "## Some links of interests\n",
    "\n",
    "### MFEUsLNet\n",
    "https://www.sciencedirect.com/science/article/pii/S2215098624000181#b0155  \n",
    "\n",
    "From the state of the art:\n",
    "\n",
    "Ghosh et al. [31] proposed **SkinNet-16**, a deep-learning model aimed at distinguishing between benign and malignant skin lesions. Their approach employs advanced neural network architecture to enhance classification accuracy.\n",
    "\n",
    "*Pronab Ghosh, Sami Azam, Ryana Quadir, Asif Karim, F.M. Shamrat, Shohag Kumar Bhowmik, Mirjam Jonkman, Khan Md Hasib, Kawsar Ahmed, SkinNet-16: a deep learning approach to identify benign and malignant skin lesions, Front. Oncol. 12 (2022) 931141.*\n",
    "\n",
    "### EfficientNet V2 B0\n",
    "https://www.kaggle.com/code/matthewjansen/transfer-learning-skin-cancer-classification  \n",
    "\n",
    "### Inception-RestNet-v2\n",
    "https://www.ncbi.nlm.nih.gov/pmc/articles/PMC9759648/\n"
   ]
  },
  {
   "cell_type": "markdown",
   "id": "16dc5872-dfcb-4fa1-904e-dff5f161c227",
   "metadata": {},
   "source": []
  },
  {
   "cell_type": "code",
   "execution_count": null,
   "id": "a9f95c0e-c87f-427f-a859-c51080bffe39",
   "metadata": {},
   "outputs": [],
   "source": []
  }
 ],
 "metadata": {
  "kernelspec": {
   "display_name": ".venv_common",
   "language": "python",
   "name": ".venv_common"
  },
  "language_info": {
   "codemirror_mode": {
    "name": "ipython",
    "version": 3
   },
   "file_extension": ".py",
   "mimetype": "text/x-python",
   "name": "python",
   "nbconvert_exporter": "python",
   "pygments_lexer": "ipython3",
   "version": "3.11.6"
  }
 },
 "nbformat": 4,
 "nbformat_minor": 5
}
