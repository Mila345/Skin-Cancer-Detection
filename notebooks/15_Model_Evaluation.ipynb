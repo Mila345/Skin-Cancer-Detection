{
 "cells": [
  {
   "cell_type": "code",
   "execution_count": 1,
   "id": "c89a1d53-4314-4f79-8852-f261480192ac",
   "metadata": {},
   "outputs": [],
   "source": [
    "import cv2\n",
    "import os\n",
    "import numpy as np\n",
    "import pandas as pd\n",
    "import itertools\n",
    "import matplotlib as mpl\n",
    "import matplotlib.pyplot as plt\n",
    "import seaborn as sns\n",
    "import optuna\n",
    "import time\n",
    "import logging\n",
    "\n",
    "## Imputation\n",
    "from sklearn.impute import SimpleImputer, KNNImputer\n",
    "\n",
    "## Feature-scaling stack\n",
    "from sklearn.preprocessing import StandardScaler, MinMaxScaler, RobustScaler, PowerTransformer, OneHotEncoder, FunctionTransformer\n",
    "\n",
    "## Dimesionality reduction\n",
    "from sklearn.feature_selection import SelectKBest, chi2, f_classif, mutual_info_classif\n",
    "\n",
    "## Pipeline\n",
    "from sklearn.compose import ColumnTransformer\n",
    "from sklearn.pipeline import make_pipeline, Pipeline\n",
    "from imblearn.pipeline import Pipeline as ImbPipeline\n",
    "from imblearn.under_sampling import RandomUnderSampler\n",
    "from imblearn.over_sampling import SMOTE, RandomOverSampler\n",
    "from imblearn.combine import SMOTEENN\n",
    "\n",
    "## Machine-learning stack\n",
    "from sklearn.model_selection import train_test_split, cross_val_score, StratifiedKFold, GridSearchCV, RandomizedSearchCV, cross_val_predict\n",
    "from sklearn.linear_model import LogisticRegression\n",
    "from sklearn.neighbors import KNeighborsClassifier\n",
    "from sklearn.tree import DecisionTreeClassifier \n",
    "from sklearn.datasets import make_classification\n",
    "from sklearn.ensemble import RandomForestClassifier, VotingClassifier, StackingClassifier, AdaBoostClassifier \n",
    "from sklearn.svm import SVC\n",
    "from catboost import CatBoostClassifier\n",
    "from xgboost import XGBClassifier\n",
    "from lightgbm import LGBMClassifier\n",
    "from imblearn.ensemble import BalancedRandomForestClassifier\n",
    "\n",
    "## Metrics\n",
    "from sklearn.metrics import confusion_matrix, accuracy_score, recall_score, precision_score, roc_curve, roc_auc_score, auc, fbeta_score, f1_score\n",
    "\n",
    "## Model saving\n",
    "from joblib import dump, load\n",
    "\n",
    "import warnings\n",
    "warnings.filterwarnings('ignore')"
   ]
  },
  {
   "cell_type": "markdown",
   "id": "b5b9e7df-b69a-4a8f-ab7a-8ba123f13735",
   "metadata": {},
   "source": [
    "# Evaluation Functions"
   ]
  },
  {
   "cell_type": "code",
   "execution_count": 2,
   "id": "04d18c79-052b-4c86-a5b6-d4794914e778",
   "metadata": {},
   "outputs": [],
   "source": [
    "def partial_auc_score(y_actual, y_scores, tpr_threshold=0.80):\n",
    "    max_fpr = 1 - tpr_threshold\n",
    "\n",
    "    # create numpy arrays\n",
    "    y_actual = np.asarray(y_actual)\n",
    "    y_scores = np.asarray(y_scores)\n",
    "\n",
    "    # ROC curve\n",
    "    fpr, tpr, _ = roc_curve(y_actual, y_scores)\n",
    "\n",
    "    # Find the index where fpr exceeds max_fpr\n",
    "    stop_index = np.searchsorted(fpr, max_fpr, side='right')\n",
    "\n",
    "    if stop_index < len(fpr):\n",
    "        # Interpolate to find the TPR at max_fpr\n",
    "        fpr_interp_points = [fpr[stop_index - 1], fpr[stop_index]]\n",
    "        tpr_interp_points = [tpr[stop_index - 1], tpr[stop_index]]\n",
    "        tpr = np.append(tpr[:stop_index], np.interp(max_fpr, fpr_interp_points, tpr_interp_points))\n",
    "        fpr = np.append(fpr[:stop_index], max_fpr)\n",
    "    else:\n",
    "        tpr = np.append(tpr, 1.0)\n",
    "        fpr = np.append(fpr, max_fpr)\n",
    "\n",
    "    # Calculate partial AUC\n",
    "    partial_auc_value = auc(fpr, tpr)\n",
    "\n",
    "    return partial_auc_value\n",
    "    \n",
    "def predict_and_print_scores(model,\n",
    "                             X_train,\n",
    "                             y_train,\n",
    "                             X_test,\n",
    "                             y_test,                             \n",
    "                             training=True,\n",
    "                             test=True,\n",
    "                             accuracy=True,\n",
    "                             recall=True,\n",
    "                             precision=True,\n",
    "                             fbeta=[True, 1.0],\n",
    "                             roc_auc=True,\n",
    "                             pauc=True,\n",
    "                             matrix=True,\n",
    "                             figsize=(3,2),\n",
    "                             cmap='YlGn'):\n",
    "    \n",
    "    '''\n",
    "    Given an already trained model, this function predicts and print some performance scores training and/or testing data.\n",
    "    The supported metrics are: accuracy, recall, precision, fbeta_score (and f1_score if beta = 1.0), roc_auc.\n",
    "    If the input parameter \"matrix\" is set to True, the function plot the confusion matrix with a color map given in \"cmap\".\n",
    "\n",
    "    model             Trained model\n",
    "    X_train           Training data with features\n",
    "    y_train           Training data with labels or targets\n",
    "    X_test            Testing data with features\n",
    "    y_test            Testing data with labels or targets                             \n",
    "    training=True     True: print scores on the training set\n",
    "    test=True         True: print scores on the testing set\n",
    "    accuracy=True     True: print accuracy_score()\n",
    "    recall=True       True: print recall_score()\n",
    "    precision=True    True: print precision_score()\n",
    "    fbeta=[True, 1.0] [True, beta]: print fbeta_score. If beta = 1.0: f1_score\n",
    "    roc_auc=True      True: print roc_auc_score()\n",
    "    matrix=True       True: plot confusion matrix\n",
    "    figsize=(3,2)     Figure size for the confusion matrix\n",
    "    cmap='YlGn')      Color map for the confusion matrix\n",
    "    \n",
    "    Possible color maps: 'Greys', 'Purples', 'Blues', 'Greens', 'Oranges', 'Reds',\n",
    "                        'YlOrBr', 'YlOrRd', 'OrRd', 'PuRd', 'RdPu', 'BuPu',\n",
    "                        'GnBu', 'PuBu', 'YlGnBu', 'PuBuGn', 'BuGn', 'YlGn'\n",
    "    \n",
    "    Returns: fig, ax: the figure objects of the cunfusion matrix (if enabled)\n",
    "    '''\n",
    "\n",
    "    # Prediction\n",
    "    y_pred_train = model.predict(X_train)\n",
    "    y_pred_test = model.predict(X_test)\n",
    "            \n",
    "    # Scores\n",
    "    if accuracy:\n",
    "        if training:\n",
    "            print(\"Accuracy on training set:\", round(accuracy_score(y_train, y_pred_train), 2))\n",
    "        if test:\n",
    "            print(\"Accuracy on test set:\", round(accuracy_score(y_test, y_pred_test), 2))\n",
    "        print(\"--------\"*5)\n",
    "    \n",
    "    if recall:        \n",
    "        if training:\n",
    "            print(\"Recall on training set:\", round(recall_score(y_train, y_pred_train), 2))\n",
    "        if test:\n",
    "            print(\"Recall on test set:\", round(recall_score(y_test, y_pred_test), 2))\n",
    "        print(\"--------\"*5)\n",
    "    \n",
    "    if precision:\n",
    "        if training:\n",
    "            print(\"Precision on training set:\", round(precision_score(y_train, y_pred_train), 2))\n",
    "        if test:\n",
    "            print(\"Precision on test set:\", round(precision_score(y_test, y_pred_test), 2))\n",
    "        print(\"--------\"*5)\n",
    "\n",
    "    if fbeta[0]:\n",
    "        if training:\n",
    "            print(\"fbeta_score on training set:\", round(fbeta_score(y_train, y_pred_train, beta=fbeta[1]), 2))\n",
    "        if test:\n",
    "            print(\"fbeta_score on test set:\", round(fbeta_score(y_test, y_pred_test, beta=fbeta[1]), 2))\n",
    "        print(\"--------\"*5)\n",
    "\n",
    "    if roc_auc:\n",
    "        y_pred_train_p = model.predict_proba(X_train)[:,1]\n",
    "        y_pred_test_p = model.predict_proba(X_test)[:,1]\n",
    "        if training:\n",
    "            print('roc_auc_score on trainig set: ', round(roc_auc_score(y_train, y_pred_train_p), 2))\n",
    "        if test:\n",
    "            print('roc_auc_score on test set: ', round(roc_auc_score(y_test, y_pred_test_p), 2))\n",
    "        print(\"--------\"*5)\n",
    "        \n",
    "    if pauc:\n",
    "        y_pred_train_p = model.predict_proba(X_train)[:,1]\n",
    "        y_pred_test_p = model.predict_proba(X_test)[:,1]\n",
    "        if training:\n",
    "            print('pAUC on trainig set: ', round(partial_auc_score(y_train, y_pred_train_p), 4))\n",
    "        if test:\n",
    "            print('pAUC on test set: ', round(partial_auc_score(y_test, y_pred_test_p), 4))\n",
    "        print(\"--------\"*5)\n",
    "        \n",
    "    # Plot confusion matrix \n",
    "    if matrix:\n",
    "        fig = plt.figure(figsize=figsize)\n",
    "        ax = fig.add_subplot()\n",
    "        sns.heatmap(confusion_matrix(y_test, y_pred_test), annot=True, cmap=cmap);\n",
    "        plt.title('Test Set')\n",
    "        plt.ylabel('True label')\n",
    "        plt.xlabel('Predicted label')                 \n",
    "        \n",
    "def train_crossval_predict_score(model,\n",
    "                                 hyperparams,\n",
    "                                 X_train,\n",
    "                                 y_train,\n",
    "                                 X_test,\n",
    "                                 y_test,\n",
    "                                 cv=5,\n",
    "                                 scoring='accuracy',\n",
    "                                 verbose=0,\n",
    "                                 n_jobs=-1,\n",
    "                                 cross_val='full',\n",
    "                                 n_iter=100,\n",
    "                                 random_state='None',\n",
    "                                 training=True,\n",
    "                                 test=True,\n",
    "                                 accuracy=True,\n",
    "                                 recall=True,\n",
    "                                 precision=True,\n",
    "                                 fbeta=[True, 1.0],\n",
    "                                 roc_auc=True,\n",
    "                                 pauc=True,\n",
    "                                 matrix=True,\n",
    "                                 figsize=(3,2),\n",
    "                                 cmap='YlGn'):\n",
    "                                 \n",
    "    '''\n",
    "    Given an instantiated model, this function trains, cross-validate, predicts, and prints some performance scores training and/or testing data.\n",
    "    The cross-validation strategy is selected with the input parameters \"cross_val\".\n",
    "    The supported metrics are: accuracy, recall, precision, fbeta_score (and f1_score if beta = 1.0), roc_auc.\n",
    "    If the input parameter \"matrix\" is set to True, the function plot the confusion matrix with a color map given in \"cmap\".\n",
    "\n",
    "    model                 #Instantiated model\n",
    "    hyperparams           #Dictionary including hyperparameters\n",
    "    X_train               #Training data with features\n",
    "    y_train               #Training data with labels or targets\n",
    "    X_test                #Testing data with features\n",
    "    y_test                #Testing data with labels or targets\n",
    "    cv=5                  #Number of cross-validation folds\n",
    "    scoring='accuracy'    #Scoring method\n",
    "    verbose=0             #Verbose\n",
    "    n_jobs=-1             #Number of jobs in parallel\n",
    "    cross_val='full'      #'Full'/'full': Apply GridSearchCV. 'Random'/'random': Apply RandomSearchCV\n",
    "    n_iter=100,           #Number of iterations for RandomSearchCV (unused for full search)\n",
    "    random_state          #Random state parameter for RandomSearchCV: 'None' or an integer\n",
    "    training=True         #True: print scores on the training set\n",
    "    test=True             #True: print scores on the testing set\n",
    "    accuracy=True         #True: print accuracy_score()\n",
    "    recall=True           #True: print recall_score()\n",
    "    precision=True        #True: print precision_score()\n",
    "    fbeta=[True, 1.0]     #[True, beta]: print fbeta_score. If beta = 1.0: f1_score\n",
    "    roc_auc=True          #True: print roc_auc_score()\n",
    "    matrix=True           #True: plot confusion matrix\n",
    "    figsize=(3,2)         #Figure size for the confusion matrix\n",
    "    cmap='YlGn'):         #Color map for the confusion matrix\n",
    "\n",
    "    Possible color maps: 'Greys', 'Purples', 'Blues', 'Greens', 'Oranges', 'Reds',\n",
    "                        'YlOrBr', 'YlOrRd', 'OrRd', 'PuRd', 'RdPu', 'BuPu',\n",
    "                        'GnBu', 'PuBu', 'YlGnBu', 'PuBuGn', 'BuGn', 'YlGn'\n",
    "    \n",
    "    Returns:\n",
    "    - best_model: object of the best model after cross-validation\n",
    "    - best_params: hyperparameters of the best model\n",
    "    - fig, ax: the figure objects of the confusion matrix (if enabled)\n",
    "'''\n",
    "\n",
    "    # Cross-validation\n",
    "    if cross_val == 'Full' or cross_val == 'full':\n",
    "        grid_model = GridSearchCV(model, param_grid=hyperparams, cv=cv, scoring=scoring, verbose=verbose, n_jobs=n_jobs)\n",
    "    elif cross_val == 'Random' or cross_val == 'random':        \n",
    "        grid_model = RandomizedSearchCV(model, param_distributions=hyperparams, n_iter=n_iter, cv=cv, scoring=scoring, random_state=random_state, verbose=verbose, n_jobs=n_jobs)\n",
    "        \n",
    "    # Fit\n",
    "    grid_model.fit(X_train, y_train)\n",
    "    best_model = grid_model.best_estimator_\n",
    "    best_params = grid_model.best_params_\n",
    "    print('Best params:', grid_model.best_params_)\n",
    "    print(\"--------\"*5)\n",
    "    \n",
    "    # Predict and print results\n",
    "    predict_and_print_scores(best_model,\n",
    "                             X_train,\n",
    "                             y_train,\n",
    "                             X_test,\n",
    "                             y_test,\n",
    "                             training=training,\n",
    "                             test=test,\n",
    "                             accuracy=accuracy,\n",
    "                             recall=recall,\n",
    "                             precision=precision,\n",
    "                             fbeta=fbeta,\n",
    "                             roc_auc=roc_auc,\n",
    "                             pauc=pauc,\n",
    "                             matrix=matrix,\n",
    "                             figsize=figsize,\n",
    "                             cmap=cmap)\n",
    "    \n",
    "    return best_model, best_params\n",
    "\n",
    "def plot_confusion_matrix(cm, classes,\n",
    "                          normalize=False,\n",
    "                          title='Confusion matrix',\n",
    "                          cmap=plt.cm.Oranges,\n",
    "                          figsize=(10,10)):\n",
    "    \"\"\"\n",
    "    This function prints and plots the confusion matrix.\n",
    "    Normalization can be applied by setting `normalize=True`.\n",
    "    Source: http://scikit-learn.org/stable/auto_examples/model_selection/plot_confusion_matrix.html\n",
    "    \"\"\"\n",
    "    # Confusion matrix\n",
    "    #cm = confusion_matrix(test_labels, rf_predictions)\n",
    "    #plot_confusion_matrix(cm, classes = ['Poor Health', 'Good Health'],\n",
    "    #                      title = 'Health Confusion Matrix')\n",
    "\n",
    "    if normalize:\n",
    "        cm = cm.astype('float') / cm.sum(axis=1)[:, np.newaxis]\n",
    "        print(\"Normalized confusion matrix\")\n",
    "    else:\n",
    "        print('Confusion matrix, without normalization')\n",
    " \n",
    "    # Plot the confusion matrix\n",
    "    plt.figure(figsize = figsize)\n",
    "    plt.imshow(cm, interpolation='nearest', cmap=cmap)\n",
    "    plt.title(title, size = 24)\n",
    "    plt.colorbar(aspect=4)\n",
    "    tick_marks = np.arange(len(classes))\n",
    "    plt.xticks(tick_marks, classes, rotation=45, size = 14)\n",
    "    plt.yticks(tick_marks, classes, size = 14)\n",
    "\n",
    "    fmt = '.3f' if normalize else 'd'\n",
    "    thresh = cm.max() / 2.\n",
    "    \n",
    "    # Labeling the plot\n",
    "    for i, j in itertools.product(range(cm.shape[0]), range(cm.shape[1])):\n",
    "        plt.text(j, i, format(cm[i, j], fmt), fontsize = 20,\n",
    "                 horizontalalignment=\"center\",\n",
    "                 color=\"white\" if cm[i, j] > thresh else \"black\")\n",
    "        \n",
    "    #plt.grid(None)\n",
    "    plt.tight_layout()\n",
    "    plt.ylabel('True label', size = 18)\n",
    "    plt.xlabel('Predicted label', size = 18)\n",
    "    plt.show()\n",
    "\n",
    "def find_roc_threshold_tpr(model, X, y, value_target):\n",
    "    \n",
    "    \"\"\"\n",
    "    This function calculates the threshold and false positive rate corresponding to a true positive rate of value_target (from 0 to 1).\n",
    "    \n",
    "    model                 # Trained model\n",
    "    X                     # Feature dataset\n",
    "    y                     # Target dataset\n",
    "    value_target          # True positive rate value\n",
    "    \n",
    "    Returns:\n",
    "    \n",
    "    threshold             # Threshold value\n",
    "    false_positive_rate   # False positive rate value\n",
    "    \"\"\"\n",
    "\n",
    "    fpr, tpr, thr = roc_curve(y, model.predict_proba(X)[:,1])\n",
    "\n",
    "    old_diff = 100000000\n",
    "    for index, value in enumerate(tpr):\n",
    "        new_diff = abs(value_target - value)\n",
    "        if new_diff < old_diff:\n",
    "            false_pos_rate = fpr[index]\n",
    "            threshold = thr[index]\n",
    "            old_diff = new_diff\n",
    "\n",
    "    return threshold, false_pos_rate\n"
   ]
  },
  {
   "cell_type": "markdown",
   "id": "f70699db-dd46-4fac-8217-3066d142c8a7",
   "metadata": {},
   "source": [
    "# Model Loading"
   ]
  },
  {
   "cell_type": "code",
   "execution_count": 3,
   "id": "2668c8fe-ed34-4cfc-9047-d4e643d26038",
   "metadata": {},
   "outputs": [],
   "source": [
    "# Read the dataset\n",
    "ROOT_DATASET_DIR = \"./\"\n",
    "file_name = os.path.join(ROOT_DATASET_DIR,\"train-metadata-eda-fe.csv\")\n",
    "df = pd.read_csv(file_name)"
   ]
  },
  {
   "cell_type": "markdown",
   "id": "94ea8251-1697-469d-8d5a-6fdf1874e7d1",
   "metadata": {},
   "source": [
    "# Exploratory Data Analysis (EDA)"
   ]
  },
  {
   "cell_type": "code",
   "execution_count": 4,
   "id": "263e30ee-ae18-45c6-bbf1-914c3fbce971",
   "metadata": {},
   "outputs": [],
   "source": [
    "# Force categorical features to be categorical \n",
    "df.drop(columns=['isic_id'], inplace=True)\n",
    "df['anatom_site_general'] =    pd.Categorical(df['anatom_site_general'])\n",
    "df['tbp_lv_location'] =        pd.Categorical(df['tbp_lv_location'])\n",
    "df['tbp_lv_location_simple'] = pd.Categorical(df['tbp_lv_location_simple'])\n",
    "df['sex'] =                    pd.Categorical(df['sex'])"
   ]
  },
  {
   "cell_type": "code",
   "execution_count": 5,
   "id": "4ff5e9b6-ad4f-4be5-8d9a-5a0644427a4a",
   "metadata": {},
   "outputs": [
    {
     "data": {
      "text/plain": [
       "target                               int64\n",
       "age_approx                         float64\n",
       "sex                               category\n",
       "anatom_site_general               category\n",
       "clin_size_long_diam_mm             float64\n",
       "                                    ...   \n",
       "sqrt_hue_color_std_interaction     float64\n",
       "sqrt_normalized_lesion_size        float64\n",
       "sqrt_color_variance_ratio          float64\n",
       "sqrt_color_asymmetry_index         float64\n",
       "sqrt_shape_color_consistency       float64\n",
       "Length: 128, dtype: object"
      ]
     },
     "execution_count": 5,
     "metadata": {},
     "output_type": "execute_result"
    }
   ],
   "source": [
    "df.dtypes"
   ]
  },
  {
   "cell_type": "markdown",
   "id": "b51f0367-8caa-4ff7-aa2e-d7e4789ccecf",
   "metadata": {},
   "source": [
    "# Feature Preparation"
   ]
  },
  {
   "cell_type": "code",
   "execution_count": 6,
   "id": "08e08914-1538-4ad4-be51-15b5ede13b6a",
   "metadata": {},
   "outputs": [],
   "source": [
    "# Original feature names\n",
    "features_to_be_logtr = ['clin_size_long_diam_mm',\n",
    "                        'tbp_lv_areaMM2',\n",
    "                        'tbp_lv_area_perim_ratio',\n",
    "                        'tbp_lv_color_std_mean',\n",
    "                        'tbp_lv_deltaLB',\n",
    "                        'tbp_lv_deltaLBnorm',\n",
    "                        'tbp_lv_minorAxisMM',\n",
    "                        'tbp_lv_norm_border',\n",
    "                        'tbp_lv_norm_color',\n",
    "                        'tbp_lv_perimeterMM',\n",
    "                        'tbp_lv_radial_color_std_max',\n",
    "                        'tbp_lv_stdL',\n",
    "                        'tbp_lv_stdLExt',\n",
    "                        'tbp_lv_symm_2axis']\n",
    "features_to_be_sqrtr = ['tbp_lv_eccentricity']\n",
    "\n",
    "# Modified original feature names\n",
    "log_features = ['log_' + col for col in features_to_be_logtr]\n",
    "sqr_features = ['sqr_' + col for col in features_to_be_sqrtr]\n",
    "\n",
    "new_features_untouched = ['lesion_size_ratio',\n",
    "                          'color_contrast_index',\n",
    "                          'log_lesion_area',\n",
    "                          'mean_hue_difference',\n",
    "                          'lesion_orientation_3d',\n",
    "                          'overall_color_difference',\n",
    "                          'border_color_interaction_2',\n",
    "                          'age_normalized_nevi_confidence_2',\n",
    "                          'border_length_ratio',\n",
    "                         ]\n",
    "\n",
    "# New feature names\n",
    "new_features_to_be_logtr = ['hue_contrast',\n",
    "                            'luminance_contrast',\n",
    "                            'lesion_color_difference',\n",
    "                            'border_complexity',\n",
    "                            'perimeter_to_area_ratio',\n",
    "                            'area_to_perimeter_ratio',\n",
    "                            'lesion_visibility_score',\n",
    "                            'symmetry_border_consistency',\n",
    "                            'consistency_symmetry_border',\n",
    "                            'consistency_color',\n",
    "                            'size_age_interaction',\n",
    "                            'lesion_severity_index',\n",
    "                            'shape_complexity_index',\n",
    "                            'std_dev_contrast',\n",
    "                            'color_shape_composite_index',\n",
    "                            'symmetry_perimeter_interaction',\n",
    "                            'comprehensive_lesion_index',\n",
    "                            'border_color_interaction',\n",
    "                            'size_color_contrast_ratio',\n",
    "                            'age_normalized_nevi_confidence',\n",
    "                            'volume_approximation_3d',\n",
    "                            'color_range',\n",
    "                            'age_size_symmetry_index',\n",
    "                            'index_age_size_symmetry']\n",
    "new_features_to_be_sqrtr = ['lesion_shape_index',\n",
    "                            'position_distance_3d']\n",
    "new_features_to_be_sqrttr = ['color_consistency',\n",
    "                             'hue_color_std_interaction',\n",
    "                             'normalized_lesion_size',                            \n",
    "                             'color_variance_ratio',\n",
    "                             'color_asymmetry_index',\n",
    "                             'shape_color_consistency']\n",
    "\n",
    "# Modify the column names\n",
    "log_new_features = ['log_' + col for col in new_features_to_be_logtr]\n",
    "sqr_new_features = ['sqr_' + col for col in new_features_to_be_sqrtr]\n",
    "sqrt_new_features = ['sqrt_' + col for col in new_features_to_be_sqrttr]"
   ]
  },
  {
   "cell_type": "markdown",
   "id": "892df2e3-f114-4ecd-9602-5aa25b3a1433",
   "metadata": {},
   "source": [
    "# Baseline Model: Logistic Regression"
   ]
  },
  {
   "cell_type": "code",
   "execution_count": 7,
   "id": "5752d269-3471-49d6-aecf-937df5399b30",
   "metadata": {},
   "outputs": [],
   "source": [
    "# Train-Test split\n",
    "# Drop non-used features for the baseline + target\n",
    "Xb = df.drop(['target']\n",
    "             + features_to_be_logtr + features_to_be_sqrtr                                         # drop original features with skeweness (no transformation)\n",
    "             + new_features_untouched                                                              # drop new features that do not require transformation\n",
    "             + new_features_to_be_logtr + new_features_to_be_sqrtr + new_features_to_be_sqrttr     # drop new features with skeweness (no transformation)\n",
    "             + log_new_features + sqr_new_features + sqrt_new_features,                            # drop new skewed features with transformation (log, sqr, sqrt)\n",
    "             axis=1)\n",
    "y = df['target']\n",
    "Xb_train, Xb_test, y_train, y_test = train_test_split(Xb, y, test_size=0.2, random_state=42, stratify=y)"
   ]
  },
  {
   "cell_type": "code",
   "execution_count": 8,
   "id": "baaabf8e-9c2e-48e8-9e5f-1e8e245c31b8",
   "metadata": {},
   "outputs": [
    {
     "name": "stdout",
     "output_type": "stream",
     "text": [
      "Numerical features: ['age_approx', 'tbp_tile_type', 'tbp_lv_A', 'tbp_lv_Aext', 'tbp_lv_B', 'tbp_lv_Bext', 'tbp_lv_C', 'tbp_lv_Cext', 'tbp_lv_H', 'tbp_lv_Hext', 'tbp_lv_L', 'tbp_lv_Lext', 'tbp_lv_deltaA', 'tbp_lv_deltaB', 'tbp_lv_deltaL', 'tbp_lv_nevi_confidence', 'tbp_lv_symm_2axis_angle', 'tbp_lv_x', 'tbp_lv_y', 'tbp_lv_z', 'log_clin_size_long_diam_mm', 'log_tbp_lv_areaMM2', 'log_tbp_lv_area_perim_ratio', 'log_tbp_lv_color_std_mean', 'log_tbp_lv_deltaLB', 'log_tbp_lv_deltaLBnorm', 'log_tbp_lv_minorAxisMM', 'log_tbp_lv_norm_border', 'log_tbp_lv_norm_color', 'log_tbp_lv_perimeterMM', 'log_tbp_lv_radial_color_std_max', 'log_tbp_lv_stdL', 'log_tbp_lv_stdLExt', 'log_tbp_lv_symm_2axis', 'sqr_tbp_lv_eccentricity']\n",
      "Categorical features: ['sex', 'anatom_site_general', 'tbp_lv_location', 'tbp_lv_location_simple']\n"
     ]
    }
   ],
   "source": [
    "numerical_features = Xb.select_dtypes(include=['float64','int64']).columns.tolist()\n",
    "categorical_features = Xb.select_dtypes(include=['category']).columns.tolist()\n",
    "print(f\"Numerical features: {numerical_features}\")\n",
    "print(f\"Categorical features: {categorical_features}\")"
   ]
  },
  {
   "cell_type": "code",
   "execution_count": 9,
   "id": "608e3850-c85c-4b21-aa4a-6cf5a3d3790d",
   "metadata": {},
   "outputs": [],
   "source": [
    "# Use SelectKBest for numerical features\n",
    "#Kbest_numerical = SelectKBest(score_func=f_classif, k='all')\n",
    "#Kbest_numerical.fit(Xb_train[numerical_features], y_train)\n",
    "\n",
    "# Extract feature scores and p-values\n",
    "#scores = Kbest_numerical.scores_\n",
    "#pvalues = Kbest_numerical.pvalues_\n",
    "\n",
    "# Create a DataFrame to hold feature names, scores, and p-values\n",
    "#feature_scores = pd.DataFrame({\n",
    "#    'Feature': numerical_features,\n",
    "#    'Score': scores,\n",
    "#    'P-Value': pvalues\n",
    "#})\n",
    "\n",
    "# Sort features by their scores\n",
    "#best_feature_scores = feature_scores[feature_scores['P-Value'] < 0.05]\n",
    "#sorted_features = best_feature_scores.sort_values(by='Score', ascending=False)\n",
    "\n",
    "# Display the sorted features\n",
    "#KBEST_NUM = sorted_features.shape[0]\n",
    "#print(f\"Number of relevant numerical features: {KBEST_NUM}\\n\")\n",
    "#print(sorted_features.set_index('Feature'))\n",
    "\n",
    "# Use SelectKBest for categorical features\n",
    "# Build a pipeline\n",
    "#preprocessor = ColumnTransformer(\n",
    "#    transformers=[\n",
    "#        ('cat', OneHotEncoder(handle_unknown='ignore', drop='first', sparse_output=False), categorical_features)\n",
    "#    ],\n",
    "#    remainder='drop'\n",
    "#)\n",
    "\n",
    "#pipeline = Pipeline(steps=[\n",
    "#    ('onehot', preprocessor),\n",
    "#    ('kbest', SelectKBest(score_func=chi2, k='all'))\n",
    "#])\n",
    "\n",
    "#cat_transformed = pipeline.fit_transform(Xb_train, y_train)\n",
    "#Kbest_categorical = pipeline.named_steps['kbest']\n",
    "\n",
    "# Extract feature scores and p-values\n",
    "#scores = Kbest_categorical.scores_\n",
    "#pvalues = Kbest_categorical.pvalues_\n",
    "\n",
    "# Extract feature names after one-hot encoding\n",
    "#one_hot_feature_names = pipeline.named_steps['onehot'].transformers_[0][1].get_feature_names_out(categorical_features)\n",
    "\n",
    "# Create a DataFrame to hold feature names, scores, and p-values\n",
    "#feature_scores = pd.DataFrame({\n",
    "#    'Feature': one_hot_feature_names,\n",
    "#    'Score': scores,\n",
    "#    'P-Value': pvalues\n",
    "#})\n",
    "\n",
    "# Sort features by their scores\n",
    "#best_feature_scores = feature_scores[feature_scores['P-Value'] < 0.05]\n",
    "#sorted_features = best_feature_scores.sort_values(by='Score', ascending=False)\n",
    "\n",
    "# Display the sorted features\n",
    "#KBEST_CAT = sorted_features.shape[0]\n",
    "#print(f\"Number of relevant categorical features: {KBEST_CAT}\\n\")\n",
    "#print(sorted_features.set_index('Feature'))"
   ]
  },
  {
   "cell_type": "code",
   "execution_count": 10,
   "id": "8b3450dc-ed99-4192-b2f2-53a35f286b6d",
   "metadata": {},
   "outputs": [],
   "source": [
    "# Pipeline\n",
    "#pipe_num = Pipeline([\n",
    "#    ('scaler', RobustScaler()),\n",
    "#    ('kbest', SelectKBest(score_func=f_classif, k=KBEST_NUM)),    \n",
    "#])\n",
    "\n",
    "#pipe_cat = Pipeline([\n",
    "#    ('onehot', OneHotEncoder(handle_unknown='ignore', drop='first', sparse_output=False)),\n",
    "#    ('kbest', SelectKBest(score_func=chi2, k=KBEST_CAT)),    \n",
    "#])\n",
    "\n",
    "#preprocessing_lr = ColumnTransformer(transformers=[\n",
    "#    ('numerical', pipe_num, numerical_features),\n",
    "#    ('categorical',pipe_cat, categorical_features)\n",
    "# ])\n",
    "                                  \n",
    "#model_lr_baseline = Pipeline([\n",
    "#    ('features', preprocessing_lr),  \n",
    "#    ('LR', LogisticRegression(max_iter=1000,\n",
    "#                              penalty='l1',\n",
    "#                              C=10,\n",
    "#                              solver='liblinear',\n",
    "#                              n_jobs=-1\n",
    "#                             ))\n",
    "#])\n",
    "\n",
    "#model_lr_baseline.fit(Xb_train, y_train)\n",
    "\n",
    "#predict_and_print_scores(model_lr_base,\n",
    "#                         Xb_train,\n",
    "#                         y_train,\n",
    "#                         Xb_test,\n",
    "#                         y_test,\n",
    "#                         training=True,\n",
    "#                         test=True,\n",
    "#                         accuracy=True,\n",
    "#                         recall=False,\n",
    "#                         precision=False,\n",
    "#                         fbeta=[False, 1.0],\n",
    "#                         roc_auc=True,\n",
    "#                         pauc=True,\n",
    "#                         matrix=False)"
   ]
  },
  {
   "cell_type": "code",
   "execution_count": 11,
   "id": "00c904b8-ac42-4793-b37c-7f82d81f33c3",
   "metadata": {},
   "outputs": [],
   "source": [
    "# Save model\n",
    "#dump(model_lr_baseline, 'model_lr_baseline.pkl')"
   ]
  },
  {
   "cell_type": "code",
   "execution_count": 12,
   "id": "ec118b27",
   "metadata": {},
   "outputs": [],
   "source": [
    "# Model evaluation at the end of the notebook"
   ]
  },
  {
   "cell_type": "markdown",
   "id": "50bd8635-293a-45bd-874c-3da0a7155cbf",
   "metadata": {},
   "source": [
    "# Logistic Regression with Feature Engineering"
   ]
  },
  {
   "cell_type": "code",
   "execution_count": 13,
   "id": "338967ee-6d89-4b7d-a463-11714c73d475",
   "metadata": {},
   "outputs": [],
   "source": [
    "# Train-Test split\n",
    "# Drop non-used features for the baseline + target\n",
    "X1 = df.drop(['target']\n",
    "             + features_to_be_logtr + features_to_be_sqrtr                                         # drop original features with skeweness (no transformation)                          \n",
    "             + new_features_to_be_logtr + new_features_to_be_sqrtr + new_features_to_be_sqrttr,    # drop new features with skeweness (no transformation)             \n",
    "             axis=1)\n",
    "X1_train, X1_test, _, _ = train_test_split(X1, y, test_size=0.2, random_state=42, stratify=y)"
   ]
  },
  {
   "cell_type": "code",
   "execution_count": 14,
   "id": "20253c01-6731-4329-aeba-4fb48c3dc7af",
   "metadata": {},
   "outputs": [
    {
     "name": "stdout",
     "output_type": "stream",
     "text": [
      "Numerical features: ['age_approx', 'tbp_tile_type', 'tbp_lv_A', 'tbp_lv_Aext', 'tbp_lv_B', 'tbp_lv_Bext', 'tbp_lv_C', 'tbp_lv_Cext', 'tbp_lv_H', 'tbp_lv_Hext', 'tbp_lv_L', 'tbp_lv_Lext', 'tbp_lv_deltaA', 'tbp_lv_deltaB', 'tbp_lv_deltaL', 'tbp_lv_nevi_confidence', 'tbp_lv_symm_2axis_angle', 'tbp_lv_x', 'tbp_lv_y', 'tbp_lv_z', 'log_clin_size_long_diam_mm', 'log_tbp_lv_areaMM2', 'log_tbp_lv_area_perim_ratio', 'log_tbp_lv_color_std_mean', 'log_tbp_lv_deltaLB', 'log_tbp_lv_deltaLBnorm', 'log_tbp_lv_minorAxisMM', 'log_tbp_lv_norm_border', 'log_tbp_lv_norm_color', 'log_tbp_lv_perimeterMM', 'log_tbp_lv_radial_color_std_max', 'log_tbp_lv_stdL', 'log_tbp_lv_stdLExt', 'log_tbp_lv_symm_2axis', 'sqr_tbp_lv_eccentricity', 'lesion_size_ratio', 'color_contrast_index', 'log_lesion_area', 'mean_hue_difference', 'lesion_orientation_3d', 'overall_color_difference', 'border_color_interaction_2', 'age_normalized_nevi_confidence_2', 'border_length_ratio', 'log_hue_contrast', 'log_luminance_contrast', 'log_lesion_color_difference', 'log_border_complexity', 'log_perimeter_to_area_ratio', 'log_area_to_perimeter_ratio', 'log_lesion_visibility_score', 'log_symmetry_border_consistency', 'log_consistency_symmetry_border', 'log_consistency_color', 'log_size_age_interaction', 'log_lesion_severity_index', 'log_shape_complexity_index', 'log_std_dev_contrast', 'log_color_shape_composite_index', 'log_symmetry_perimeter_interaction', 'log_comprehensive_lesion_index', 'log_border_color_interaction', 'log_size_color_contrast_ratio', 'log_age_normalized_nevi_confidence', 'log_volume_approximation_3d', 'log_color_range', 'log_age_size_symmetry_index', 'log_index_age_size_symmetry', 'sqr_lesion_shape_index', 'sqr_position_distance_3d', 'sqrt_color_consistency', 'sqrt_hue_color_std_interaction', 'sqrt_normalized_lesion_size', 'sqrt_color_variance_ratio', 'sqrt_color_asymmetry_index', 'sqrt_shape_color_consistency']\n",
      "Categorical features: ['sex', 'anatom_site_general', 'tbp_lv_location', 'tbp_lv_location_simple']\n"
     ]
    }
   ],
   "source": [
    "numerical_features = X1.select_dtypes(include=['float64','int64']).columns.tolist()\n",
    "categorical_features = X1.select_dtypes(include=['category']).columns.tolist()\n",
    "print(f\"Numerical features: {numerical_features}\")\n",
    "print(f\"Categorical features: {categorical_features}\")"
   ]
  },
  {
   "cell_type": "markdown",
   "id": "ce3d9ac6",
   "metadata": {},
   "source": [
    "### Dimensionality Reduction"
   ]
  },
  {
   "cell_type": "code",
   "execution_count": 15,
   "id": "49fe74d1-9b4e-488a-9043-4c5b6f317dcc",
   "metadata": {},
   "outputs": [
    {
     "name": "stdout",
     "output_type": "stream",
     "text": [
      "Number of relevant numerical features: 68\n",
      "\n",
      "                                      Score        P-Value\n",
      "Feature                                                   \n",
      "tbp_lv_H                         596.935096  1.030472e-131\n",
      "mean_hue_difference              516.167671  3.564907e-114\n",
      "tbp_lv_deltaB                    385.672387   8.152815e-86\n",
      "tbp_lv_Hext                      332.404923   3.141478e-74\n",
      "overall_color_difference         299.873400   3.770619e-67\n",
      "...                                     ...            ...\n",
      "sqrt_hue_color_std_interaction     7.667604   5.622435e-03\n",
      "log_symmetry_border_consistency    5.745972   1.652708e-02\n",
      "tbp_lv_L                           4.604228   3.189396e-02\n",
      "tbp_lv_x                           4.396313   3.601751e-02\n",
      "lesion_orientation_3d              4.292523   3.828112e-02\n",
      "\n",
      "[68 rows x 2 columns]\n",
      "Number of relevant categorical features: 8\n",
      "\n",
      "                                              Score       P-Value\n",
      "Feature                                                          \n",
      "anatom_site_general_head/neck            309.765912  2.455948e-69\n",
      "tbp_lv_location_Left Leg                  12.235153  4.689749e-04\n",
      "tbp_lv_location_Right Leg - Upper         11.134642  8.473028e-04\n",
      "tbp_lv_location_simple_Right Leg           6.138519  1.322681e-02\n",
      "tbp_lv_location_Torso Back Middle Third    5.859480  1.549337e-02\n",
      "tbp_lv_location_simple_Right Arm           5.478735  1.924919e-02\n",
      "tbp_lv_location_Torso Front Bottom Half    4.512864  3.364087e-02\n",
      "anatom_site_general_lower extremity        4.258931  3.904449e-02\n"
     ]
    }
   ],
   "source": [
    "# Use SelectKBest for numerical features\n",
    "Kbest_numerical = SelectKBest(score_func=f_classif, k='all')\n",
    "Kbest_numerical.fit(X1_train[numerical_features], y_train)\n",
    "\n",
    "# Extract feature scores and p-values\n",
    "scores = Kbest_numerical.scores_\n",
    "pvalues = Kbest_numerical.pvalues_\n",
    "\n",
    "# Create a DataFrame to hold feature names, scores, and p-values\n",
    "feature_scores = pd.DataFrame({\n",
    "    'Feature': numerical_features,\n",
    "    'Score': scores,\n",
    "    'P-Value': pvalues\n",
    "})\n",
    "\n",
    "# Sort features by their scores\n",
    "best_feature_scores = feature_scores[feature_scores['P-Value'] < 0.05]\n",
    "sorted_features = best_feature_scores.sort_values(by='Score', ascending=False)\n",
    "\n",
    "# Display the sorted features\n",
    "KBEST_NUM = sorted_features.shape[0]\n",
    "print(f\"Number of relevant numerical features: {KBEST_NUM}\\n\")\n",
    "print(sorted_features.set_index('Feature'))\n",
    "\n",
    "# Use SelectKBest for categorical features\n",
    "# Build a pipeline\n",
    "preprocessor = ColumnTransformer(\n",
    "    transformers=[\n",
    "        ('cat', OneHotEncoder(handle_unknown='ignore', drop='first', sparse_output=False), categorical_features)\n",
    "    ],\n",
    "    remainder='drop'\n",
    ")\n",
    "\n",
    "pipeline = Pipeline(steps=[\n",
    "    ('onehot', preprocessor),\n",
    "    ('kbest', SelectKBest(score_func=chi2, k='all'))\n",
    "])\n",
    "\n",
    "cat_transformed = pipeline.fit_transform(X1_train, y_train)\n",
    "Kbest_categorical = pipeline.named_steps['kbest']\n",
    "\n",
    "# Extract feature scores and p-values\n",
    "scores = Kbest_categorical.scores_\n",
    "pvalues = Kbest_categorical.pvalues_\n",
    "\n",
    "# Extract feature names after one-hot encoding\n",
    "one_hot_feature_names = pipeline.named_steps['onehot'].transformers_[0][1].get_feature_names_out(categorical_features)\n",
    "\n",
    "# Create a DataFrame to hold feature names, scores, and p-values\n",
    "feature_scores = pd.DataFrame({\n",
    "    'Feature': one_hot_feature_names,\n",
    "    'Score': scores,\n",
    "    'P-Value': pvalues\n",
    "})\n",
    "\n",
    "# Sort features by their scores\n",
    "best_feature_scores = feature_scores[feature_scores['P-Value'] < 0.05]\n",
    "sorted_features = best_feature_scores.sort_values(by='Score', ascending=False)\n",
    "\n",
    "# Display the sorted features\n",
    "KBEST_CAT = sorted_features.shape[0]\n",
    "print(f\"Number of relevant categorical features: {KBEST_CAT}\\n\")\n",
    "print(sorted_features.set_index('Feature'))"
   ]
  },
  {
   "cell_type": "code",
   "execution_count": 30,
   "id": "a54f2d34-4730-470f-ba41-c61d0c770f3d",
   "metadata": {},
   "outputs": [
    {
     "name": "stdout",
     "output_type": "stream",
     "text": [
      "Accuracy on training set: 1.0\n",
      "Accuracy on test set: 1.0\n",
      "----------------------------------------\n",
      "roc_auc_score on trainig set:  0.94\n",
      "roc_auc_score on test set:  0.93\n",
      "----------------------------------------\n",
      "pAUC on trainig set:  0.1554\n",
      "pAUC on test set:  0.1463\n",
      "----------------------------------------\n"
     ]
    }
   ],
   "source": [
    "# Pipeline\n",
    "pipe_num = Pipeline([\n",
    "    ('scaler', RobustScaler()),\n",
    "    ('kbest', SelectKBest(score_func=f_classif, k=KBEST_NUM)),    \n",
    "])\n",
    "\n",
    "pipe_cat = Pipeline([\n",
    "    ('onehot', OneHotEncoder(handle_unknown='ignore', drop='first', sparse_output=False)),\n",
    "    ('kbest', SelectKBest(score_func=chi2, k=KBEST_CAT)),    \n",
    "])\n",
    "\n",
    "preprocessing_lr = ColumnTransformer(transformers=[\n",
    "    ('numerical', pipe_num, numerical_features),\n",
    "    ('categorical',pipe_cat, categorical_features)\n",
    " ])\n",
    "                                  \n",
    "model_lr_fe76 = Pipeline([\n",
    "    ('features', preprocessing_lr),  \n",
    "    ('LR', LogisticRegression(max_iter=1000,\n",
    "                              penalty='l1',\n",
    "                              C=10,\n",
    "                              solver='liblinear',\n",
    "                              n_jobs=-1\n",
    "                             ))\n",
    "])\n",
    "\n",
    "model_lr_fe76.fit(X1_train, y_train)\n",
    "\n",
    "predict_and_print_scores(model_lr_fe76,\n",
    "                         X1_train,\n",
    "                         y_train,\n",
    "                         X1_test,\n",
    "                         y_test,\n",
    "                         training=True,\n",
    "                         test=True,\n",
    "                         accuracy=True,\n",
    "                         recall=False,\n",
    "                         precision=False,\n",
    "                         fbeta=[False, 1.0],\n",
    "                         roc_auc=True,\n",
    "                         pauc=True,\n",
    "                         matrix=False)\n",
    "# Best params: {'LR__C': 10, 'LR__penalty': 'l1', 'LR__solver': 'liblinear'}\n",
    "#pAUC on trainig set:  0.1554\n",
    "#pAUC on test set:  0.1463"
   ]
  },
  {
   "cell_type": "code",
   "execution_count": 31,
   "id": "10883025-7ae0-4a33-93a7-cc0c6891f0b3",
   "metadata": {},
   "outputs": [
    {
     "data": {
      "text/plain": [
       "['model_lr_fe76.pkl']"
      ]
     },
     "execution_count": 31,
     "metadata": {},
     "output_type": "execute_result"
    }
   ],
   "source": [
    "# Save model\n",
    "dump(model_lr_fe76, 'model_lr_fe76.pkl')"
   ]
  },
  {
   "cell_type": "code",
   "execution_count": 32,
   "id": "d42f5a5d",
   "metadata": {},
   "outputs": [],
   "source": [
    "# Model evaluation at the end of the notebook"
   ]
  },
  {
   "cell_type": "markdown",
   "id": "6071b6b2-0ced-4d88-9230-90148834bd85",
   "metadata": {},
   "source": [
    "# Logistic Regression with Resampling"
   ]
  },
  {
   "cell_type": "code",
   "execution_count": 33,
   "id": "54972027-0c5c-44ba-9991-7e423af36717",
   "metadata": {},
   "outputs": [
    {
     "name": "stdout",
     "output_type": "stream",
     "text": [
      "Accuracy on training set: 0.98\n",
      "Accuracy on test set: 0.98\n",
      "----------------------------------------\n",
      "roc_auc_score on trainig set:  0.95\n",
      "roc_auc_score on test set:  0.93\n",
      "----------------------------------------\n",
      "pAUC on trainig set:  0.1595\n",
      "pAUC on test set:  0.1475\n",
      "----------------------------------------\n"
     ]
    }
   ],
   "source": [
    "# Pipeline\n",
    "pipe_num = Pipeline([\n",
    "    ('scaler', RobustScaler()),\n",
    "    ('kbest', SelectKBest(score_func=f_classif, k=KBEST_NUM)),   \n",
    "])\n",
    "\n",
    "pipe_cat = Pipeline([\n",
    "    ('onehot', OneHotEncoder(handle_unknown='ignore', drop='first', sparse_output=False)),\n",
    "    ('kbest', SelectKBest(score_func=chi2, k=KBEST_CAT)),\n",
    "    \n",
    "])\n",
    "\n",
    "preprocessing_lr = ColumnTransformer(transformers=[\n",
    "    ('numerical', pipe_num, numerical_features),\n",
    "    ('categorical',pipe_cat, categorical_features)\n",
    " ])\n",
    "                                 \n",
    "model_lr_fe76_rsmpl = ImbPipeline([\n",
    "    ('features', preprocessing_lr),  \n",
    "    ('undersample', RandomUnderSampler(sampling_strategy={0: 40000}, random_state=42)),\n",
    "    ('oversample', SMOTE(sampling_strategy={1: 4000}, random_state=42)),    \n",
    "    ('LR', LogisticRegression(max_iter=1000,\n",
    "                              penalty='l1',\n",
    "                              C=10,\n",
    "                              solver='liblinear',\n",
    "                              n_jobs=-1\n",
    "                             ))\n",
    "])\n",
    "\n",
    "model_lr_fe76_rsmpl.fit(X1_train, y_train)\n",
    "\n",
    "predict_and_print_scores(model_lr_fe76_rsmpl,\n",
    "                         X1_train,\n",
    "                         y_train,\n",
    "                         X1_test,\n",
    "                         y_test,\n",
    "                         training=True,\n",
    "                         test=True,\n",
    "                         accuracy=True,\n",
    "                         recall=False,\n",
    "                         precision=False,\n",
    "                         fbeta=[False, 1.0],\n",
    "                         roc_auc=True,\n",
    "                         pauc=True,\n",
    "                         matrix=False)\n",
    "# Best params: {'LR__C': 10, 'LR__penalty': 'l1', 'LR__solver': 'liblinear'}\n",
    "#pAUC on trainig set:  0.1583\n",
    "#pAUC on test set:  0.1481\n",
    "#pAUC on trainig set:  0.1595\n",
    "#pAUC on test set:  0.1475"
   ]
  },
  {
   "cell_type": "code",
   "execution_count": 34,
   "id": "076cc8cf-6fd0-4d0e-9445-ad3166e4b934",
   "metadata": {},
   "outputs": [
    {
     "data": {
      "text/plain": [
       "['model_lr_fe76_rsmpl.pkl']"
      ]
     },
     "execution_count": 34,
     "metadata": {},
     "output_type": "execute_result"
    }
   ],
   "source": [
    "# Save model\n",
    "dump(model_lr_fe76_rsmpl, 'model_lr_fe76_rsmpl.pkl')"
   ]
  },
  {
   "cell_type": "code",
   "execution_count": 35,
   "id": "7fec4824",
   "metadata": {},
   "outputs": [],
   "source": [
    "# Model evaluation at the end of the notebook"
   ]
  },
  {
   "cell_type": "markdown",
   "id": "369183e0-1e6b-4909-81ff-e11389f7d710",
   "metadata": {},
   "source": [
    "# Balanced Random Forest"
   ]
  },
  {
   "cell_type": "code",
   "execution_count": 16,
   "id": "a92a5549-b2f0-4b33-9264-3805fb66fea7",
   "metadata": {},
   "outputs": [
    {
     "name": "stdout",
     "output_type": "stream",
     "text": [
      "Accuracy on training set: 0.96\n",
      "Accuracy on test set: 0.96\n",
      "----------------------------------------\n",
      "roc_auc_score on trainig set:  1.0\n",
      "roc_auc_score on test set:  0.95\n",
      "----------------------------------------\n",
      "pAUC on trainig set:  0.1975\n",
      "pAUC on test set:  0.1647\n",
      "----------------------------------------\n"
     ]
    }
   ],
   "source": [
    "# Pipeline\n",
    "pipe_num = Pipeline([\n",
    "    ('scaler', RobustScaler()),\n",
    "    ('kbest', SelectKBest(score_func=f_classif, k=KBEST_NUM)),\n",
    "])\n",
    "\n",
    "pipe_cat = Pipeline([\n",
    "    ('onehot', OneHotEncoder(handle_unknown='ignore', drop='first', sparse_output=False)),\n",
    "    ('kbest', SelectKBest(score_func=chi2, k=KBEST_CAT)),\n",
    "])\n",
    "\n",
    "preprocessing_rf = ColumnTransformer(transformers=[\n",
    "    ('numerical', pipe_num, numerical_features),\n",
    "    ('categorical',pipe_cat, categorical_features)\n",
    " ])\n",
    "\n",
    "#From Optuna\n",
    "param_rf = {\n",
    "    'random_state': 42,\n",
    "    'n_estimators': 291,\n",
    "    'max_depth': 28,\n",
    "    'min_samples_split': 7,\n",
    "    'min_samples_leaf': 3,\n",
    "    'bootstrap': True,\n",
    "    'class_weight': 'balanced_subsample',\n",
    "    'n_jobs': -1\n",
    "}\n",
    "\n",
    "model_rf_fe76_rsmpl = ImbPipeline([    \n",
    "    ('features', preprocessing_rf),\n",
    "    ('undersample', RandomUnderSampler(sampling_strategy={0: 40000}, random_state=42)),\n",
    "    ('oversample', SMOTE(sampling_strategy={1: 4000}, random_state=42)),\n",
    "    ('RF',  BalancedRandomForestClassifier(**param_rf))\n",
    "])\n",
    "\n",
    "model_rf_fe76_rsmpl.fit(X1_train, y_train)\n",
    "\n",
    "predict_and_print_scores(model_rf_fe76_rsmpl,\n",
    "                         X1_train,\n",
    "                         y_train,\n",
    "                         X1_test,\n",
    "                         y_test,\n",
    "                         training=True,\n",
    "                         test=True,\n",
    "                         accuracy=True,\n",
    "                         recall=False,\n",
    "                         precision=False,\n",
    "                         fbeta=[False, 1.0],\n",
    "                         roc_auc=True,\n",
    "                         pauc=True,\n",
    "                         matrix=False)\n",
    "#pAUC on trainig set:  0.1975\n",
    "#pAUC on test set:  0.1647"
   ]
  },
  {
   "cell_type": "code",
   "execution_count": 17,
   "id": "1a084197-6ad4-4fe0-b8e0-78ee61a56694",
   "metadata": {},
   "outputs": [
    {
     "data": {
      "text/plain": [
       "['model_rf_fe76_rsmpl.pkl']"
      ]
     },
     "execution_count": 17,
     "metadata": {},
     "output_type": "execute_result"
    }
   ],
   "source": [
    "# Save model\n",
    "dump(model_rf_fe76_rsmpl, 'model_rf_fe76_rsmpl.pkl')"
   ]
  },
  {
   "cell_type": "code",
   "execution_count": 18,
   "id": "8173002d",
   "metadata": {},
   "outputs": [],
   "source": [
    "# Model evaluation at the end of the notebook"
   ]
  },
  {
   "cell_type": "markdown",
   "id": "a0a6501f-5cdb-48da-9892-987af7a88f6d",
   "metadata": {},
   "source": [
    "# XGBoost"
   ]
  },
  {
   "cell_type": "code",
   "execution_count": 19,
   "id": "32df4955-11fe-4c68-9ca4-a6c593926918",
   "metadata": {},
   "outputs": [
    {
     "name": "stdout",
     "output_type": "stream",
     "text": [
      "Accuracy on training set: 1.0\n",
      "Accuracy on test set: 1.0\n",
      "----------------------------------------\n",
      "roc_auc_score on trainig set:  1.0\n",
      "roc_auc_score on test set:  0.96\n",
      "----------------------------------------\n",
      "pAUC on trainig set:  0.1999\n",
      "pAUC on test set:  0.1709\n",
      "----------------------------------------\n"
     ]
    }
   ],
   "source": [
    "# Pipeline\n",
    "pipe_num = Pipeline([\n",
    "    ('scaler', RobustScaler()),\n",
    "    ('kbest', SelectKBest(score_func=f_classif, k=KBEST_NUM)),\n",
    "])\n",
    "\n",
    "pipe_cat = Pipeline([\n",
    "    ('onehot', OneHotEncoder(handle_unknown='ignore', drop='first', sparse_output=False)),\n",
    "    ('kbest', SelectKBest(score_func=chi2, k=KBEST_CAT)),\n",
    "])\n",
    "\n",
    "preprocessing_xgb = ColumnTransformer(transformers=[\n",
    "    ('numerical', pipe_num, numerical_features),\n",
    "    ('categorical',pipe_cat, categorical_features)\n",
    " ])\n",
    "\n",
    "#From Optuna:\n",
    "param_xgb = {\n",
    "    'random_state': 42,\n",
    "    'enable_categorical': True,\n",
    "    'n_estimators':       326,\n",
    "    'learning_rate':      0.08436030091020512,\n",
    "    'lambda':             8.884343754020513, \n",
    "    'alpha':              0.6016012857898024, \n",
    "    'max_depth':          24, \n",
    "    'subsample':          0.5544116730544034,\n",
    "    'colsample_bytree':   0.8858320679623496,\n",
    "    'colsample_bylevel':  0.5714065572311247,\n",
    "    'scale_pos_weight':   3.235191645176061,\n",
    "    'eval_metric':        'logloss',\n",
    "}\n",
    "\n",
    "model_xgb_fe76_rsmpl = ImbPipeline([    \n",
    "    ('features', preprocessing_xgb),\n",
    "    ('undersample', RandomUnderSampler(sampling_strategy={0: 40000}, random_state=42)),\n",
    "    ('oversample', SMOTE(sampling_strategy={1: 4000}, random_state=42)),\n",
    "    ('XGB', XGBClassifier(**param_xgb))\n",
    "])\n",
    "\n",
    "model_xgb_fe76_rsmpl.fit(X1_train, y_train)\n",
    "\n",
    "predict_and_print_scores(model_xgb_fe76_rsmpl,\n",
    "                         X1_train,\n",
    "                         y_train,\n",
    "                         X1_test,\n",
    "                         y_test,\n",
    "                         training=True,\n",
    "                         test=True,\n",
    "                         accuracy=True,\n",
    "                         recall=False,\n",
    "                         precision=False,\n",
    "                         fbeta=[False, 1.0],\n",
    "                         roc_auc=True,\n",
    "                         pauc=True,\n",
    "                         matrix=False)"
   ]
  },
  {
   "cell_type": "code",
   "execution_count": 20,
   "id": "22f524dc-cfc8-49e0-b8f2-50c277db2142",
   "metadata": {},
   "outputs": [
    {
     "data": {
      "text/plain": [
       "['model_xgb_fe76_rsmpl.pkl']"
      ]
     },
     "execution_count": 20,
     "metadata": {},
     "output_type": "execute_result"
    }
   ],
   "source": [
    "# Save model\n",
    "dump(model_xgb_fe76_rsmpl, 'model_xgb_fe76_rsmpl.pkl')"
   ]
  },
  {
   "cell_type": "code",
   "execution_count": 21,
   "id": "843073ba",
   "metadata": {},
   "outputs": [],
   "source": [
    "# Model evaluation at the end of the notebook"
   ]
  },
  {
   "cell_type": "markdown",
   "id": "07e7e44e-7a7c-49b0-85a2-016f63d7b1c9",
   "metadata": {},
   "source": [
    "# LightGBM"
   ]
  },
  {
   "cell_type": "code",
   "execution_count": 22,
   "id": "4ceeb482-0711-4561-baf7-e0a91be4beda",
   "metadata": {},
   "outputs": [
    {
     "name": "stdout",
     "output_type": "stream",
     "text": [
      "Accuracy on training set: 1.0\n",
      "Accuracy on test set: 0.99\n",
      "----------------------------------------\n",
      "roc_auc_score on trainig set:  1.0\n",
      "roc_auc_score on test set:  0.96\n",
      "----------------------------------------\n",
      "pAUC on trainig set:  0.1981\n",
      "pAUC on test set:  0.1701\n",
      "----------------------------------------\n"
     ]
    }
   ],
   "source": [
    "# Pipeline\n",
    "pipe_num = Pipeline([\n",
    "    ('scaler', RobustScaler()),\n",
    "    ('kbest', SelectKBest(score_func=f_classif, k=KBEST_NUM)),\n",
    "])\n",
    "\n",
    "pipe_cat = Pipeline([\n",
    "    ('onehot', OneHotEncoder(handle_unknown='ignore', drop='first', sparse_output=False)),\n",
    "    ('kbest', SelectKBest(score_func=chi2, k=KBEST_CAT)),\n",
    "])\n",
    "\n",
    "preprocessing_lgb = ColumnTransformer(transformers=[\n",
    "    ('numerical', pipe_num, numerical_features),\n",
    "    ('categorical',pipe_cat, categorical_features)\n",
    " ])\n",
    "\n",
    "# From Optuna:\n",
    "param_lgb = {\n",
    "    'random_state':     42,\n",
    "    'objective':        'binary',\n",
    "    'boosting_type':    'gbdt',\n",
    "    'num_iterations':   200,\n",
    "    'n_estimators':     400,\n",
    "    'lambda_l1':        0.08766437170083925,\n",
    "    'lambda_l2':        0.004492349752615178,\n",
    "    'learning_rate':    0.04,\n",
    "    'max_depth':        30,\n",
    "    'num_leaves':       31,\n",
    "    'colsample_bytree': 0.8324081487425792,\n",
    "    'colsample_bynode': 0.39838369879256874,\n",
    "    'bagging_fraction': 0.7104142221194555,\n",
    "    'bagging_freq':     10,\n",
    "    'min_data_in_leaf': 8,\n",
    "    'scale_pos_weight': 2.357719391828603,\n",
    "    'verbosity':        -1\n",
    "}\n",
    "\n",
    "model_lgb_fe76_rsmpl = ImbPipeline([    \n",
    "    ('features', preprocessing_lgb),\n",
    "    ('undersample', RandomUnderSampler(sampling_strategy={0: 40000}, random_state=42)),\n",
    "    ('oversample', SMOTE(sampling_strategy={1: 4000}, random_state=42)),\n",
    "    ('LGB', LGBMClassifier(**param_lgb))    \n",
    "])\n",
    "\n",
    "model_lgb_fe76_rsmpl.fit(X1_train, y_train)\n",
    "\n",
    "predict_and_print_scores(model_lgb_fe76_rsmpl,\n",
    "                         X1_train,\n",
    "                         y_train,\n",
    "                         X1_test,\n",
    "                         y_test,\n",
    "                         training=True,\n",
    "                         test=True,\n",
    "                         accuracy=True,\n",
    "                         recall=False,\n",
    "                         precision=False,\n",
    "                         fbeta=[False, 1.0],\n",
    "                         roc_auc=True,\n",
    "                         pauc=True,\n",
    "                         matrix=False)\n",
    "#pAUC on trainig set:  0.1981\n",
    "#pAUC on test set:  0.1701"
   ]
  },
  {
   "cell_type": "code",
   "execution_count": 23,
   "id": "a863758c-77c3-4efc-898b-26ad12ee0962",
   "metadata": {},
   "outputs": [
    {
     "data": {
      "text/plain": [
       "['model_lgb_fe76_rsmpl.pkl']"
      ]
     },
     "execution_count": 23,
     "metadata": {},
     "output_type": "execute_result"
    }
   ],
   "source": [
    "# Save model\n",
    "dump(model_lgb_fe76_rsmpl, 'model_lgb_fe76_rsmpl.pkl')"
   ]
  },
  {
   "cell_type": "code",
   "execution_count": 24,
   "id": "28daa153",
   "metadata": {},
   "outputs": [],
   "source": [
    "# Model evaluation at the end of the notebook"
   ]
  },
  {
   "cell_type": "markdown",
   "id": "2a7d96b2-c827-470c-85aa-100c538b4999",
   "metadata": {},
   "source": [
    "# CatBoost"
   ]
  },
  {
   "cell_type": "code",
   "execution_count": 25,
   "id": "b4d40087-6a53-4336-ae6b-3f92dfee611b",
   "metadata": {},
   "outputs": [
    {
     "name": "stdout",
     "output_type": "stream",
     "text": [
      "Accuracy on training set: 1.0\n",
      "Accuracy on test set: 1.0\n",
      "----------------------------------------\n",
      "roc_auc_score on trainig set:  1.0\n",
      "roc_auc_score on test set:  0.96\n",
      "----------------------------------------\n",
      "pAUC on trainig set:  0.1981\n",
      "pAUC on test set:  0.1649\n",
      "----------------------------------------\n"
     ]
    }
   ],
   "source": [
    "# Pipeline\n",
    "pipe_num = Pipeline([\n",
    "    ('scaler', RobustScaler()),\n",
    "    ('kbest', SelectKBest(score_func=f_classif, k=KBEST_NUM)),\n",
    "])\n",
    "\n",
    "pipe_cat = Pipeline([\n",
    "    ('onehot', OneHotEncoder(handle_unknown='ignore', drop='first', sparse_output=False)),\n",
    "    ('kbest', SelectKBest(score_func=chi2, k=KBEST_CAT)),\n",
    "])\n",
    "\n",
    "preprocessing_cb = ColumnTransformer(transformers=[\n",
    "    ('numerical', pipe_num, numerical_features),\n",
    "    ('categorical',pipe_cat, categorical_features)\n",
    " ])\n",
    "\n",
    "# From Optuna:\n",
    "param_cb = {\n",
    "    'random_state':     42,\n",
    "    'loss_function':    'Logloss',\n",
    "    'verbose':          False,\n",
    "    'n_estimators':     214,\n",
    "    'max_depth':        6,\n",
    "    'learning_rate':    0.16562407742162114,\n",
    "    'scale_pos_weight': 1.7093579819808669,\n",
    "    'l2_leaf_reg':      7.02714772536825,\n",
    "    'subsample':        0.8505760501200976,\n",
    "    'min_data_in_leaf': 5\n",
    "}\n",
    "\n",
    "model_cb_fe76_rsmpl = ImbPipeline([    \n",
    "    ('features', preprocessing_cb),\n",
    "    ('undersample', RandomUnderSampler(sampling_strategy={0: 40000}, random_state=42)),\n",
    "    ('oversample', SMOTE(sampling_strategy={1: 4000}, random_state=42)),\n",
    "    ('CB', CatBoostClassifier(**param_cb))    \n",
    "])\n",
    "\n",
    "model_cb_fe76_rsmpl.fit(X1_train, y_train)\n",
    "\n",
    "predict_and_print_scores(model_cb_fe76_rsmpl,\n",
    "                         X1_train,\n",
    "                         y_train,\n",
    "                         X1_test,\n",
    "                         y_test,\n",
    "                         training=True,\n",
    "                         test=True,\n",
    "                         accuracy=True,\n",
    "                         recall=False,\n",
    "                         precision=False,\n",
    "                         fbeta=[False, 1.0],\n",
    "                         roc_auc=True,\n",
    "                         pauc=True,\n",
    "                         matrix=False)"
   ]
  },
  {
   "cell_type": "code",
   "execution_count": 26,
   "id": "65189a8b-15b5-4192-810d-8025554aed88",
   "metadata": {},
   "outputs": [
    {
     "data": {
      "text/plain": [
       "['model_cb_fe76_rsmpl.pkl']"
      ]
     },
     "execution_count": 26,
     "metadata": {},
     "output_type": "execute_result"
    }
   ],
   "source": [
    "# Save model\n",
    "dump(model_cb_fe76_rsmpl, 'model_cb_fe76_rsmpl.pkl')"
   ]
  },
  {
   "cell_type": "code",
   "execution_count": null,
   "id": "20d8c137-908e-41e7-a474-9ab3e5ffaf2b",
   "metadata": {},
   "outputs": [],
   "source": [
    "# Model evaluation at the end of the notebook"
   ]
  },
  {
   "cell_type": "markdown",
   "id": "09838bdd-83e2-4e66-a948-8c3c87447d8f",
   "metadata": {},
   "source": [
    "# AdaBoost"
   ]
  },
  {
   "cell_type": "code",
   "execution_count": null,
   "id": "f67bc431-11d7-4adc-acb6-fbf2ecc4684d",
   "metadata": {},
   "outputs": [],
   "source": [
    "# Pipeline\n",
    "pipe_num = Pipeline([\n",
    "    ('scaler', RobustScaler()),\n",
    "    ('kbest', SelectKBest(score_func=f_classif, k=KBEST_NUM)),\n",
    "])\n",
    "\n",
    "pipe_cat = Pipeline([\n",
    "    ('onehot', OneHotEncoder(handle_unknown='ignore', drop='first', sparse_output=False)),\n",
    "    ('kbest', SelectKBest(score_func=chi2, k=KBEST_CAT)),\n",
    "])\n",
    "\n",
    "preprocessing_cb = ColumnTransformer(transformers=[\n",
    "    ('numerical', pipe_num, numerical_features),\n",
    "    ('categorical',pipe_cat, categorical_features)\n",
    " ])\n",
    "\n",
    "# From Optuna:\n",
    "param_cb = {\n",
    "    'random_state':     42,\n",
    "    'loss_function':    'Logloss',\n",
    "    'verbose':          False,\n",
    "    'n_estimators':     214,\n",
    "    'max_depth':        6,\n",
    "    'learning_rate':    0.16562407742162114,\n",
    "    'scale_pos_weight': 1.7093579819808669,\n",
    "    'l2_leaf_reg':      7.02714772536825,\n",
    "    'subsample':        0.8505760501200976,\n",
    "    'min_data_in_leaf': 5\n",
    "}\n",
    "\n",
    "model_cb_fe76_rsmpl = ImbPipeline([    \n",
    "    ('features', preprocessing_cb),\n",
    "    ('undersample', RandomUnderSampler(sampling_strategy={0: 40000}, random_state=42)),\n",
    "    ('oversample', SMOTE(sampling_strategy={1: 4000}, random_state=42)),\n",
    "    ('CB', CatBoostClassifier(**param_cb))    \n",
    "])\n",
    "\n",
    "model_cb_fe76_rsmpl.fit(X1_train, y_train)\n",
    "\n",
    "predict_and_print_scores(model_cb_fe76_rsmpl,\n",
    "                         X1_train,\n",
    "                         y_train,\n",
    "                         X1_test,\n",
    "                         y_test,\n",
    "                         training=True,\n",
    "                         test=True,\n",
    "                         accuracy=True,\n",
    "                         recall=False,\n",
    "                         precision=False,\n",
    "                         fbeta=[False, 1.0],\n",
    "                         roc_auc=True,\n",
    "                         pauc=True,\n",
    "                         matrix=False)"
   ]
  },
  {
   "cell_type": "markdown",
   "id": "5b1c6ae4-a8d9-4a2c-9262-e20405533b5a",
   "metadata": {},
   "source": [
    "# Evaluate Models"
   ]
  },
  {
   "cell_type": "markdown",
   "id": "9fcc6c80",
   "metadata": {},
   "source": [
    "### Partial ROC AUC Score"
   ]
  },
  {
   "cell_type": "code",
   "execution_count": 27,
   "id": "51639397-e1d7-47bc-a25e-c3ad652d2aee",
   "metadata": {},
   "outputs": [
    {
     "name": "stdout",
     "output_type": "stream",
     "text": [
      "pAUC - LR - baseline:  0.1367\n",
      "pAUC - RF - fe76 - rsmpl:  0.1647\n",
      "pAUC - XGB - fe76 - rsmpl:  0.1709\n",
      "pAUC - LGB - fe76 - rsmpl:  0.1701\n",
      "pAUC - CB - fe76 - rsmpl:  0.1649\n"
     ]
    }
   ],
   "source": [
    "model_lr_base =        load('model_lr_baseline.pkl')\n",
    "model_lr_fe76 =        load('model_lr_fe76.pkl')\n",
    "model_lr_fe76_rsmpl =  load('model_lr_fe76_rsmpl.pkl')\n",
    "model_rf_fe76_rsmpl =  load('model_rf_fe76_rsmpl.pkl')\n",
    "model_xgb_fe76_rsmpl = load('model_xgb_fe76_rsmpl.pkl')\n",
    "model_lgb_fe76_rsmpl = load('model_lgb_fe76_rsmpl.pkl')\n",
    "model_cb_fe76_rsmpl =  load('model_cb_fe76_rsmpl.pkl')\n",
    "\n",
    "print('pAUC - LR - baseline: ',      round(partial_auc_score(y_test, model_lr_base.predict_proba(Xb_test)[:,1]), 4))\n",
    "print('pAUC - LR - fe76: ',          round(partial_auc_score(y_test, model_lr_fe76.predict_proba(X1_test)[:,1]), 4))\n",
    "print('pAUC - LR - fe76 - rsmpl: ',  round(partial_auc_score(y_test, model_lr_fe76_rsmpl.predict_proba(X1_test)[:,1]), 4))\n",
    "print('pAUC - RF - fe76 - rsmpl: ',  round(partial_auc_score(y_test, model_rf_fe76_rsmpl.predict_proba(X1_test)[:,1]), 4))\n",
    "print('pAUC - XGB - fe76 - rsmpl: ', round(partial_auc_score(y_test, model_xgb_fe76_rsmpl.predict_proba(X1_test)[:,1]), 4))\n",
    "print('pAUC - LGB - fe76 - rsmpl: ', round(partial_auc_score(y_test, model_lgb_fe76_rsmpl.predict_proba(X1_test)[:,1]), 4))\n",
    "print('pAUC - CB - fe76 - rsmpl: ',  round(partial_auc_score(y_test, model_cb_fe76_rsmpl.predict_proba(X1_test)[:,1]), 4))"
   ]
  },
  {
   "cell_type": "markdown",
   "id": "678b3e12",
   "metadata": {},
   "source": [
    "### Confusion Matrices"
   ]
  },
  {
   "cell_type": "code",
   "execution_count": 28,
   "id": "9ff36558",
   "metadata": {},
   "outputs": [
    {
     "name": "stdout",
     "output_type": "stream",
     "text": [
      "Normalized confusion matrix\n"
     ]
    },
    {
     "data": {
      "image/png": "[encoded data removed]",
      "text/plain": [
       "<Figure size 600x600 with 2 Axes>"
      ]
     },
     "metadata": {},
     "output_type": "display_data"
    },
    {
     "name": "stdout",
     "output_type": "stream",
     "text": [
      "Normalized confusion matrix\n"
     ]
    },
    {
     "data": {
      "image/png": "[encoded data removed]",
      "text/plain": [
       "<Figure size 600x600 with 2 Axes>"
      ]
     },
     "metadata": {},
     "output_type": "display_data"
    },
    {
     "name": "stdout",
     "output_type": "stream",
     "text": [
      "Normalized confusion matrix\n"
     ]
    },
    {
     "data": {
      "image/png": "[encoded data removed]",
      "text/plain": [
       "<Figure size 600x600 with 2 Axes>"
      ]
     },
     "metadata": {},
     "output_type": "display_data"
    },
    {
     "name": "stdout",
     "output_type": "stream",
     "text": [
      "Normalized confusion matrix\n"
     ]
    },
    {
     "data": {
      "image/png": "[encoded data removed]",
      "text/plain": [
       "<Figure size 600x600 with 2 Axes>"
      ]
     },
     "metadata": {},
     "output_type": "display_data"
    }
   ],
   "source": [
    "RECALL = 0.9\n",
    "# Balanced Random Forest. Note! assuming a threshold of RECALL.\n",
    "thr, _ = find_roc_threshold_tpr(model_rf_fe76_rsmpl, X1_test, y_test, RECALL)\n",
    "cm = confusion_matrix(y_test, model_rf_fe76_rsmpl.predict_proba(X1_test)[:,1] > thr)\n",
    "plot_confusion_matrix(cm,\n",
    "                      ['Malign: NO', 'Malign: YES'],\n",
    "                      normalize=True,\n",
    "                      title='Balanced Random Forest',\n",
    "                      cmap=plt.cm.OrRd,\n",
    "                      figsize=(6,6))\n",
    "##plt.savefig('images/confusion_classif.png', dpi=600)\n",
    "\n",
    "# XGBoost. Note! assuming a threshold of RECALL.\n",
    "thr, _ = find_roc_threshold_tpr(model_xgb_fe76_rsmpl, X1_test, y_test, RECALL)\n",
    "cm = confusion_matrix(y_test, model_xgb_fe76_rsmpl.predict_proba(X1_test)[:,1] > thr)\n",
    "plot_confusion_matrix(cm,\n",
    "                      ['Malign: NO', 'Malign: YES'],\n",
    "                      normalize=True,\n",
    "                      title='XGBoost',\n",
    "                      cmap=plt.cm.OrRd,\n",
    "                      figsize=(6,6))\n",
    "\n",
    "# LightGBM. Note! assuming a threshold of RECALL.\n",
    "thr, _ = find_roc_threshold_tpr(model_lgb_fe76_rsmpl, X1_test, y_test, RECALL)\n",
    "cm = confusion_matrix(y_test, model_lgb_fe76_rsmpl.predict_proba(X1_test)[:,1] > thr)\n",
    "plot_confusion_matrix(cm,\n",
    "                      ['Malign: NO', 'Malign: YES'],\n",
    "                      normalize=True,\n",
    "                      title='LightGBM',\n",
    "                      cmap=plt.cm.OrRd,\n",
    "                      figsize=(6,6))\n",
    "\n",
    "# CatBoost. Note! assuming a threshold of RECALL.\n",
    "thr, _ = find_roc_threshold_tpr(model_cb_fe76_rsmpl, X1_test, y_test, RECALL)\n",
    "cm = confusion_matrix(y_test, model_cb_fe76_rsmpl.predict_proba(X1_test)[:,1] > thr)\n",
    "plot_confusion_matrix(cm,\n",
    "                      ['Malign: NO', 'Malign: YES'],\n",
    "                      normalize=True,\n",
    "                      title='CatBoost',\n",
    "                      cmap=plt.cm.OrRd,\n",
    "                      figsize=(6,6))"
   ]
  },
  {
   "cell_type": "code",
   "execution_count": 29,
   "id": "2c293113-89a2-4d35-ab25-919fc17896e3",
   "metadata": {},
   "outputs": [
    {
     "data": {
      "image/png": "[encoded data removed]",
      "text/plain": [
       "<Figure size 800x700 with 1 Axes>"
      ]
     },
     "metadata": {},
     "output_type": "display_data"
    }
   ],
   "source": [
    "fpr_lr1, tpr_lr1, thr_lr1 = roc_curve(y_test, model_lr_base.predict_proba(Xb_test)[:,1])\n",
    "fpr_lr2, tpr_lr2, thr_lr2 = roc_curve(y_test, model_lr_fe76.predict_proba(X1_test)[:,1])\n",
    "fpr_lr3, tpr_lr3, thr_lr3 = roc_curve(y_test, model_lr_fe76_rsmpl.predict_proba(X1_test)[:,1])\n",
    "fpr_lr4, tpr_lr4, thr_lr4 = roc_curve(y_test, model_rf_fe76_rsmpl.predict_proba(X1_test)[:,1])\n",
    "fpr_lr5, tpr_lr5, thr_lr5 = roc_curve(y_test, model_xgb_fe76_rsmpl.predict_proba(X1_test)[:,1])\n",
    "fpr_lr6, tpr_lr6, thr_lr6 = roc_curve(y_test, model_lgb_fe76_rsmpl.predict_proba(X1_test)[:,1])\n",
    "fpr_lr7, tpr_lr7, thr_lr7 = roc_curve(y_test, model_cb_fe76_rsmpl.predict_proba(X1_test)[:,1])\n",
    "\n",
    "fig = plt.figure(figsize=(8,7))\n",
    "ax = fig.add_subplot()\n",
    "plt.plot(fpr_lr1, tpr_lr1, 'r-', label = 'Logistic Regression - Base')\n",
    "plt.plot(fpr_lr2, tpr_lr2, 'y-', label = 'Logistic Regression - FE76')\n",
    "plt.plot(fpr_lr3, tpr_lr3, 'g-', label = 'Logistic Regression - FE76 - Resample')\n",
    "plt.plot(fpr_lr4, tpr_lr4, 'c-', label = 'Balanced Random Forest - FE76 - Resample')\n",
    "plt.plot(fpr_lr5, tpr_lr5, 'b-', label = 'XGBoost - FE76 - Resample')\n",
    "plt.plot(fpr_lr6, tpr_lr6, 'm-', label = 'LightGBM - FE76 - Resample')\n",
    "plt.plot(fpr_lr7, tpr_lr7, 'k-', label = 'CatBost - FE76 - Resample')\n",
    "\n",
    "plt.plot([0,1],[0,1],'k:',label='Random')\n",
    "plt.plot([0,0,1,1],[0,1,1,1],'k--',label='Perfect')\n",
    "plt.plot([0,1],[0.8,0.8],'k-',label='80% Recall')\n",
    "plt.legend()\n",
    "plt.title('ROC Curve')\n",
    "plt.xlabel('False Positive Rate (1 - Specifity)')\n",
    "plt.ylabel('True Positive Rate (Recall)')\n",
    "plt.grid()\n",
    "plt.show()"
   ]
  },
  {
   "cell_type": "code",
   "execution_count": null,
   "id": "d90c1fc0-365a-435d-8b47-cc4fafa872ff",
   "metadata": {},
   "outputs": [],
   "source": []
  },
  {
   "cell_type": "code",
   "execution_count": null,
   "id": "dfd0cddc-ddbc-425f-a637-821ab6fd8b8a",
   "metadata": {},
   "outputs": [],
   "source": []
  }
 ],
 "metadata": {
  "kernelspec": {
   "display_name": ".venv_common",
   "language": "python",
   "name": ".venv_common"
  },
  "language_info": {
   "codemirror_mode": {
    "name": "ipython",
    "version": 3
   },
   "file_extension": ".py",
   "mimetype": "text/x-python",
   "name": "python",
   "nbconvert_exporter": "python",
   "pygments_lexer": "ipython3",
   "version": "3.11.6"
  }
 },
 "nbformat": 4,
 "nbformat_minor": 5
}
