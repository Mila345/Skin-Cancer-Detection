{
 "cells": [
  {
   "cell_type": "code",
   "execution_count": null,
   "id": "23281dcf-0ad3-4d07-ac4d-ce3ef5cb1167",
   "metadata": {},
   "outputs": [],
   "source": [
    "# Import required libraries\n",
    "import os\n",
    "import re\n",
    "import cv2\n",
    "import numpy as np\n",
    "import pandas as pd\n",
    "from tqdm import tqdm\n",
    "from sklearn.model_selection import train_test_split"
   ]
  },
  {
   "cell_type": "markdown",
   "id": "b6fad121-ca93-437a-a41b-d492cf80ce47",
   "metadata": {},
   "source": [
    "# Reading and Processing Functions"
   ]
  },
  {
   "cell_type": "code",
   "execution_count": 2,
   "id": "9c150a15-0192-41b6-900f-04d6c45ad570",
   "metadata": {},
   "outputs": [],
   "source": [
    "# Function to get all image files belonging to image_list in a given directory\n",
    "def get_folder_files(folder_path, image_list):  \n",
    "\n",
    "    files = [os.path.join(folder_path, f\"{image}.jpg\") for image in image_list]\n",
    "    return files\n",
    "\n",
    "def load_and_resize_file(file_path, size, method='lanczos'):\n",
    "\n",
    "    # Read image\n",
    "    file = cv2.imread(file_path)\n",
    "\n",
    "    # Resize image with a target size using a target method\n",
    "    match method:\n",
    "        case 'nearest':\n",
    "            return cv2.resize(file, (size), interpolation=cv2.INTER_NEAREST)\n",
    "        case 'linear':\n",
    "            return cv2.resize(file, (size), interpolation=cv2.INTER_LINEAR)\n",
    "        case 'cubic':\n",
    "            return cv2.resize(file, (size), interpolation=cv2.INTER_CUBIC)\n",
    "        case 'lanczos':\n",
    "            return cv2.resize(file, (size), interpolation=cv2.INTER_LANCZOS4)\n",
    "        case _:\n",
    "            return cv2.resize(file, (size), interpolation=cv2.INTER_NEAREST)\n",
    "        \n",
    "\n",
    "# Function to create and write images for each file path in given directories.\n",
    "def create_and_write_img(file_paths, file_ids, file_targets, target_size, target_method, save_dir_0, save_dir_1, desc=None):\n",
    "    \n",
    "    # Iterate over each file_path and file_id pair using zip(file_paths, file_ids), while also displaying a progress bar using tqdm.\n",
    "    for file_path, file_id, file_target, in tqdm(zip(file_paths, file_ids, file_targets), ascii=True, total=len(file_ids), desc=desc, leave=True):\n",
    "        \n",
    "        # load the image corresponding to the current file_path\n",
    "        image = load_and_resize_file(file_path=file_path, size=target_size, method=target_method)\n",
    "\n",
    "        # Build the new file name\n",
    "        new_name = file_id + \"_\" + str(target_size[0]) + \"x\" + str(target_size[1]) + \"_\" + target_method + \".jpg\"             \n",
    "\n",
    "        # Build the image path\n",
    "        if file_target == 0:\n",
    "            dst_img_path = os.path.join(save_dir_0, new_name)\n",
    "        else:\n",
    "            dst_img_path = os.path.join(save_dir_1, new_name)\n",
    "            \n",
    "        # writes the image and mask arrays to the corresponding destination paths using cv2.imwrite.\n",
    "        cv2.imwrite(dst_img_path, image)\n",
    "        \n",
    "    return\n"
   ]
  },
  {
   "cell_type": "markdown",
   "id": "a2c9b71b-99a8-486d-8602-e754e0f1fc5a",
   "metadata": {},
   "source": [
    "# Prepare Images for CNN Classification"
   ]
  },
  {
   "cell_type": "code",
   "execution_count": 3,
   "id": "b5a1e50b-1012-498b-ab6a-ce950c632b07",
   "metadata": {},
   "outputs": [],
   "source": [
    "# Read the dataset\n",
    "ROOT_DATASET_DIR = \"./\"\n",
    "file_name = os.path.join(ROOT_DATASET_DIR,\"train-metadata-eda-fe.csv\")\n",
    "df = pd.read_csv(file_name)"
   ]
  },
  {
   "cell_type": "code",
   "execution_count": 4,
   "id": "7d6e77ed-f8f1-49c4-bf24-28c678590ff6",
   "metadata": {},
   "outputs": [],
   "source": [
    "# Define paths for training and test image directories\n",
    "ORIG_IMG_DIR = os.path.join(\"..\",\"isic-2024-challenge\",\"train-image\",\"image\")\n",
    "CASE_FOLDERS = os.listdir(ORIG_IMG_DIR)\n",
    "ROOT_IMAGE_DIR =  os.path.join(\"..\",\"images\")\n",
    "ROOT_TRAIN_DIR_0 = os.path.join(ROOT_IMAGE_DIR, \"train\", \"0\")\n",
    "ROOT_TRAIN_DIR_1 = os.path.join(ROOT_IMAGE_DIR, \"train\", \"1\")\n",
    "ROOT_TEST_DIR_0 = os.path.join(ROOT_IMAGE_DIR, \"test\", \"0\")\n",
    "ROOT_TEST_DIR_1 = os.path.join(ROOT_IMAGE_DIR, \"test\", \"1\")\n",
    "     \n",
    "# Create directories if not already present\n",
    "os.makedirs(ROOT_TRAIN_DIR_0, exist_ok=True)\n",
    "os.makedirs(ROOT_TRAIN_DIR_1, exist_ok=True)\n",
    "os.makedirs(ROOT_TEST_DIR_0, exist_ok=True)\n",
    "os.makedirs(ROOT_TEST_DIR_1, exist_ok=True)\n",
    "\n",
    "TARGET_SIZE = (128, 128) # assumed 128x128\n",
    "TARGET_METHOD = 'lanczos'"
   ]
  },
  {
   "cell_type": "code",
   "execution_count": 5,
   "id": "d9afe274-fb6c-4acc-a291-42a973c26f90",
   "metadata": {},
   "outputs": [],
   "source": [
    "# Train-test split\n",
    "X = df.drop(['target'], axis=1)\n",
    "y = df['target']\n",
    "X_train, X_test, y_train, y_test = train_test_split(X, y, test_size=0.2, random_state=42, stratify=y)"
   ]
  },
  {
   "cell_type": "code",
   "execution_count": 6,
   "id": "d8412ff1-b362-407b-8f38-eaba2fef3434",
   "metadata": {},
   "outputs": [
    {
     "name": "stderr",
     "output_type": "stream",
     "text": [
      "Train :: ..\\isic-2024-challenge\\train-image\\image: 100%|##########| 316242/316242 [08:55<00:00, 590.38it/s]\n"
     ]
    }
   ],
   "source": [
    "# Process train images\n",
    "ids_train = X_train.isic_id.to_list()\n",
    "files_train = get_folder_files(folder_path=ORIG_IMG_DIR, image_list=ids_train)\n",
    "\n",
    "create_and_write_img(file_paths=files_train,\n",
    "                     file_ids=ids_train,\n",
    "                     file_targets=y_train,\n",
    "                     target_size=TARGET_SIZE,\n",
    "                     target_method=TARGET_METHOD,\n",
    "                     save_dir_0=ROOT_TRAIN_DIR_0,\n",
    "                     save_dir_1=ROOT_TRAIN_DIR_1,\n",
    "                     desc=f\"Train :: {ORIG_IMG_DIR}\")"
   ]
  },
  {
   "cell_type": "code",
   "execution_count": 7,
   "id": "c25208e0-6ffe-4918-87ba-38e9ee4e58bf",
   "metadata": {},
   "outputs": [
    {
     "name": "stderr",
     "output_type": "stream",
     "text": [
      "Train :: ..\\isic-2024-challenge\\train-image\\image: 100%|##########| 79061/79061 [02:05<00:00, 629.51it/s]\n"
     ]
    }
   ],
   "source": [
    "# Process test images\n",
    "ids_test = X_test.isic_id.to_list()\n",
    "files_test = get_folder_files(folder_path=ORIG_IMG_DIR, image_list=ids_test)\n",
    "\n",
    "create_and_write_img(file_paths=files_test,\n",
    "                     file_ids=ids_test,\n",
    "                     file_targets=y_test,\n",
    "                     target_size=TARGET_SIZE,\n",
    "                     target_method=TARGET_METHOD,\n",
    "                     save_dir_0=ROOT_TEST_DIR_0,\n",
    "                     save_dir_1=ROOT_TEST_DIR_1,\n",
    "                     desc=f\"Train :: {ORIG_IMG_DIR}\")"
   ]
  },
  {
   "cell_type": "code",
   "execution_count": null,
   "id": "58f5690b-5c0a-4da2-bc11-ae0466fae4be",
   "metadata": {},
   "outputs": [],
   "source": []
  }
 ],
 "metadata": {
  "kernelspec": {
   "display_name": ".venv_common",
   "language": "python",
   "name": ".venv_common"
  },
  "language_info": {
   "codemirror_mode": {
    "name": "ipython",
    "version": 3
   },
   "file_extension": ".py",
   "mimetype": "text/x-python",
   "name": "python",
   "nbconvert_exporter": "python",
   "pygments_lexer": "ipython3",
   "version": "3.11.6"
  }
 },
 "nbformat": 4,
 "nbformat_minor": 5
}
