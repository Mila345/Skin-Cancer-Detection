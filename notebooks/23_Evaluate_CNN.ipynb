{
 "cells": [
  {
   "cell_type": "code",
   "execution_count": 1,
   "id": "f0f52785-438b-40f7-9ac8-2fcd3df4a610",
   "metadata": {},
   "outputs": [
    {
     "name": "stderr",
     "output_type": "stream",
     "text": [
      "C:\\Users\\ssre_\\.conda\\envs\\py310\\lib\\site-packages\\tensorflow_addons\\utils\\tfa_eol_msg.py:23: UserWarning: \n",
      "\n",
      "TensorFlow Addons (TFA) has ended development and introduction of new features.\n",
      "TFA has entered a minimal maintenance and release mode until a planned end of life in May 2024.\n",
      "Please modify downstream libraries to take dependencies from other repositories in our TensorFlow community (e.g. Keras, Keras-CV, and Keras-NLP). \n",
      "\n",
      "For more information see: https://github.com/tensorflow/addons/issues/2807 \n",
      "\n",
      "  warnings.warn(\n",
      "C:\\Users\\ssre_\\.conda\\envs\\py310\\lib\\site-packages\\tensorflow_addons\\utils\\ensure_tf_install.py:53: UserWarning: Tensorflow Addons supports using Python ops for all Tensorflow versions above or equal to 2.12.0 and strictly below 2.15.0 (nightly versions are not supported). \n",
      " The versions of TensorFlow you are currently using is 2.10.0 and is not supported. \n",
      "Some things might work, some things might not.\n",
      "If you were to encounter a bug, do not file an issue.\n",
      "If you want to make sure you're using a tested and supported configuration, either change the TensorFlow version or the TensorFlow Addons's version. \n",
      "You can find the compatibility matrix in TensorFlow Addon's readme:\n",
      "https://github.com/tensorflow/addons\n",
      "  warnings.warn(\n"
     ]
    },
    {
     "name": "stdout",
     "output_type": "stream",
     "text": [
      "INFO:tensorflow:Mixed precision compatibility check (mixed_float16): OK\n",
      "Your GPU will likely run quickly with dtype policy mixed_float16 as it has compute capability of at least 7.0. Your GPU: NVIDIA GeForce RTX 4070, compute capability 8.9\n"
     ]
    }
   ],
   "source": [
    "import os\n",
    "import numpy as np\n",
    "import pandas as pd\n",
    "import itertools\n",
    "import matplotlib.pyplot as plt\n",
    "import seaborn as sns\n",
    "import scipy\n",
    "from pathlib import Path\n",
    "from PIL import Image\n",
    "from IPython.display import clear_output\n",
    "#from scikitplot.metrics import plot_confusion_matrix, plot_roc\n",
    "import tensorflow as tf\n",
    "\n",
    "# From TensorFlow\n",
    "from tensorflow.data.experimental import AUTOTUNE\n",
    "import tensorflow_addons as tfa\n",
    "from tensorflow import keras\n",
    "from tensorflow.keras.models import Sequential\n",
    "from tensorflow.keras.layers import Flatten, Dense, Dropout\n",
    "from tensorflow.keras.applications import ResNet50, ResNet50V2\n",
    "from tensorflow.keras.preprocessing.image import ImageDataGenerator\n",
    "from livelossplot import PlotLossesKeras\n",
    "from keras.models import load_model, Model\n",
    "from keras.initializers import glorot_uniform\n",
    "from keras.callbacks import Callback, ReduceLROnPlateau, ModelCheckpoint\n",
    "from tensorflow.keras.optimizers import Adam\n",
    "from tensorflow.python.client import device_lib\n",
    "from tensorflow.keras.mixed_precision import set_global_policy\n",
    "from tensorflow.keras import backend as K\n",
    "from tensorflow.keras.metrics import AUC, PrecisionAtRecall, SpecificityAtSensitivity, PrecisionAtRecall\n",
    "from tensorflow.keras.losses import BinaryCrossentropy\n",
    "\n",
    "# From scikit-learn\n",
    "from sklearn.model_selection import train_test_split\n",
    "from sklearn.metrics import f1_score, confusion_matrix, accuracy_score, recall_score, roc_curve, roc_auc_score, auc\n",
    "\n",
    "set_global_policy('mixed_float16')"
   ]
  },
  {
   "cell_type": "markdown",
   "id": "ae61af96-0a18-4379-9110-55a6a8b6bcab",
   "metadata": {},
   "source": [
    "# GPU Availability"
   ]
  },
  {
   "cell_type": "code",
   "execution_count": 2,
   "id": "d7ce28b6-e439-4fff-8170-0412590d970f",
   "metadata": {},
   "outputs": [
    {
     "name": "stdout",
     "output_type": "stream",
     "text": [
      "GPUs detected: [PhysicalDevice(name='/physical_device:GPU:0', device_type='GPU')]\n"
     ]
    }
   ],
   "source": [
    "# Check for available GPUs\n",
    "gpus = tf.config.list_physical_devices('GPU')\n",
    "if gpus:\n",
    "    print(f\"GPUs detected: {gpus}\")\n",
    "else:\n",
    "    print(\"No GPU detected.\")"
   ]
  },
  {
   "cell_type": "markdown",
   "id": "153f4fa7-f20e-490d-9079-e6019e10d242",
   "metadata": {},
   "source": [
    "# Constants and Hyperparameters"
   ]
  },
  {
   "cell_type": "code",
   "execution_count": 40,
   "id": "59d5b76a-44a5-43e7-96cc-c117f523fc6a",
   "metadata": {},
   "outputs": [],
   "source": [
    "BATCH_SIZE = 64\n",
    "MEAN = [0.485, 0.456, 0.406]\n",
    "STD = [0.229, 0.224, 0.225]\n",
    "\n",
    "IM_SIZE = 128\n",
    "\n",
    "# Read the dataset\n",
    "ROOT_DATASET_DIR = \"../\"\n",
    "DATASET = os.path.join(ROOT_DATASET_DIR,\"images\")\n",
    "MODELS = os.path.join(ROOT_DATASET_DIR,\"models\")"
   ]
  },
  {
   "cell_type": "markdown",
   "id": "83fc3a45-2d86-43cf-a7f9-823ad7d9a98c",
   "metadata": {},
   "source": [
    "# Evaluation Functions"
   ]
  },
  {
   "cell_type": "code",
   "execution_count": 4,
   "id": "4c3863a7-37f8-4e8d-a471-0a7060fa449d",
   "metadata": {},
   "outputs": [],
   "source": [
    "def partial_auc_score(y_actual, y_scores, tpr_threshold=0.80):\n",
    "    max_fpr = 1 - tpr_threshold\n",
    "\n",
    "    # create numpy arrays\n",
    "    y_actual = np.asarray(y_actual)\n",
    "    y_scores = np.asarray(y_scores)\n",
    "\n",
    "    # ROC curve\n",
    "    fpr, tpr, _ = roc_curve(y_actual, y_scores)\n",
    "\n",
    "    # Find the index where fpr exceeds max_fpr\n",
    "    stop_index = np.searchsorted(fpr, max_fpr, side='right')\n",
    "\n",
    "    if stop_index < len(fpr):\n",
    "        # Interpolate to find the TPR at max_fpr\n",
    "        fpr_interp_points = [fpr[stop_index - 1], fpr[stop_index]]\n",
    "        tpr_interp_points = [tpr[stop_index - 1], tpr[stop_index]]\n",
    "        tpr = np.append(tpr[:stop_index], np.interp(max_fpr, fpr_interp_points, tpr_interp_points))\n",
    "        fpr = np.append(fpr[:stop_index], max_fpr)\n",
    "    else:\n",
    "        tpr = np.append(tpr, 1.0)\n",
    "        fpr = np.append(fpr, max_fpr)\n",
    "\n",
    "    # Calculate partial AUC\n",
    "    partial_auc_value = auc(fpr, tpr)\n",
    "\n",
    "    return partial_auc_value\n",
    "    \n",
    "# ploting model loss during training, created by Daniel: https://medium.com/geekculture/how-to-plot-model-loss-while-training-in-tensorflow-9fa1a1875a5\n",
    "class plot_learning(keras.callbacks.Callback):\n",
    "    \"\"\"\n",
    "    Callback to plot the learning curves of the model during training.\n",
    "    \"\"\"\n",
    "    def on_train_begin(self, logs={}):\n",
    "        self.metrics = {}\n",
    "        for metric in logs:\n",
    "            self.metrics[metric] = []\n",
    "            \n",
    "\n",
    "    def on_epoch_end(self, epoch, logs={}):\n",
    "        # Storing metrics\n",
    "        for metric in logs:\n",
    "            if metric in self.metrics:\n",
    "                self.metrics[metric].append(logs.get(metric))\n",
    "            else:\n",
    "                self.metrics[metric] = [logs.get(metric)]\n",
    "        \n",
    "        # Plotting\n",
    "        metrics = [x for x in logs if 'val' not in x]\n",
    "\n",
    "        f, axs = plt.subplots(1, len(metrics), figsize=(15,5))\n",
    "        clear_output(wait=True)\n",
    "\n",
    "        for i, metric in enumerate(metrics):\n",
    "            axs[i].plot(range(1, epoch + 2), \n",
    "                        self.metrics[metric], \n",
    "                        label=metric)\n",
    "            if logs['val_' + metric]:\n",
    "                axs[i].plot(range(1, epoch + 2), \n",
    "                            self.metrics['val_' + metric], \n",
    "                            label='val_' + metric)\n",
    "                \n",
    "            axs[i].legend()\n",
    "            axs[i].grid()\n",
    "\n",
    "        plt.tight_layout()\n",
    "        plt.show()\n",
    "\n",
    "def partial_auc_score_tf(y_true, y_pred):\n",
    "    tpr_threshold = 0.80\n",
    "    max_fpr = 1 - tpr_threshold\n",
    "\n",
    "    # Convert true labels and predictions to float\n",
    "    y_true = tf.cast(y_true, tf.float32)\n",
    "    y_pred = tf.cast(y_pred, tf.float32)\n",
    "\n",
    "    # Calculate the ROC curve with TensorFlow\n",
    "    #fpr, tpr, _ = tf.compat.v1.metrics.auc(y_true, y_pred, curve='ROC')\n",
    "    fpr, tpr, _ = AUC(y_true, y_pred)\n",
    "    #fpr, tpr, _ = tfa.metrics.roc_curve(y_true, y_pred)\n",
    "    \n",
    "    # Find the index where fpr exceeds max_fpr\n",
    "    stop_index = tf.where(fpr <= max_fpr)[-1]\n",
    "\n",
    "    # Gather points up to the stop index\n",
    "    fpr = fpr[:stop_index + 1]\n",
    "    tpr = tpr[:stop_index + 1]\n",
    "\n",
    "    # Add the max_fpr point\n",
    "    fpr = tf.concat([fpr, [max_fpr]], axis=0)\n",
    "    tpr = tf.concat([tpr, [tpr[-1]]], axis=0)\n",
    "\n",
    "    # Calculate the partial AUC\n",
    "    partial_auc_value = tf.reduce_sum(tf.multiply(tf.diff(fpr), (tpr[1:] + tpr[:-1]) / 2))\n",
    "\n",
    "    return partial_auc_value\n",
    "\n",
    "def plot_confusion_matrix(cm, classes,\n",
    "                          normalize=False,\n",
    "                          title='Confusion matrix',\n",
    "                          cmap=plt.cm.Oranges,\n",
    "                          figsize=(10,10)):\n",
    "    \"\"\"\n",
    "    This function prints and plots the confusion matrix.\n",
    "    Normalization can be applied by setting `normalize=True`.\n",
    "    Source: http://scikit-learn.org/stable/auto_examples/model_selection/plot_confusion_matrix.html\n",
    "    \"\"\"\n",
    "    # Confusion matrix\n",
    "    #cm = confusion_matrix(test_labels, rf_predictions)\n",
    "    #plot_confusion_matrix(cm, classes = ['Poor Health', 'Good Health'],\n",
    "    #                      title = 'Health Confusion Matrix')\n",
    "\n",
    "    if normalize:\n",
    "        cm = cm.astype('float') / cm.sum(axis=1)[:, np.newaxis]\n",
    "        print(\"Normalized confusion matrix\")\n",
    "    else:\n",
    "        print('Confusion matrix, without normalization')\n",
    " \n",
    "    # Plot the confusion matrix\n",
    "    plt.figure(figsize = figsize)\n",
    "    plt.imshow(cm, interpolation='nearest', cmap=cmap)\n",
    "    plt.title(title, size = 24)\n",
    "    plt.colorbar(aspect=4)\n",
    "    tick_marks = np.arange(len(classes))\n",
    "    plt.xticks(tick_marks, classes, rotation=45, size = 14)\n",
    "    plt.yticks(tick_marks, classes, size = 14)\n",
    "\n",
    "    fmt = '.3f' if normalize else 'd'\n",
    "    thresh = cm.max() / 2.\n",
    "    \n",
    "    # Labeling the plot\n",
    "    for i, j in itertools.product(range(cm.shape[0]), range(cm.shape[1])):\n",
    "        plt.text(j, i, format(cm[i, j], fmt), fontsize = 20,\n",
    "                 horizontalalignment=\"center\",\n",
    "                 color=\"white\" if cm[i, j] > thresh else \"black\")\n",
    "        \n",
    "    #plt.grid(None)\n",
    "    plt.tight_layout()\n",
    "    plt.ylabel('True label', size = 18)\n",
    "    plt.xlabel('Predicted label', size = 18)\n",
    "    plt.show()\n",
    "\n",
    "def find_roc_threshold_tpr(model, X, y, value_target):\n",
    "    \n",
    "    \"\"\"\n",
    "    This function calculates the threshold and false positive rate corresponding to a true positive rate of value_target (from 0 to 1).\n",
    "    \n",
    "    model                 # Trained model\n",
    "    X                     # Feature dataset\n",
    "    y                     # Target dataset\n",
    "    value_target          # True positive rate value\n",
    "    \n",
    "    Returns:\n",
    "    \n",
    "    threshold             # Threshold value\n",
    "    false_positive_rate   # False positive rate value\n",
    "    \"\"\"\n",
    "\n",
    "    fpr, tpr, thr = roc_curve(y, model.predict_proba(X)[:,1])\n",
    "\n",
    "    old_diff = 100000000\n",
    "    for index, value in enumerate(tpr):\n",
    "        new_diff = abs(value_target - value)\n",
    "        if new_diff < old_diff:\n",
    "            false_pos_rate = fpr[index]\n",
    "            threshold = thr[index]\n",
    "            old_diff = new_diff\n",
    "\n",
    "    return threshold, false_pos_rate"
   ]
  },
  {
   "cell_type": "markdown",
   "id": "5001c926-c583-42f4-adf7-b1932ddb9e6e",
   "metadata": {},
   "source": [
    "# Image Preprocessing Functions"
   ]
  },
  {
   "cell_type": "code",
   "execution_count": 18,
   "id": "3ad4d167-fded-4a99-a0e2-c73da2116900",
   "metadata": {},
   "outputs": [],
   "source": [
    "# Function for custom normalization\n",
    "def custom_normalization(image):\n",
    "    image = image / 255.0\n",
    "    mean = tf.constant(MEAN, dtype=image.dtype)\n",
    "    std = tf.constant(STD, dtype=image.dtype)\n",
    "    image = (image - mean) / std  # Normalize each channel\n",
    "    return image\n",
    "    \n",
    "# Parse and process images\n",
    "def parse_image(filename, label):\n",
    "    image = tf.io.read_file(filename)\n",
    "    image = tf.image.decode_jpeg(image, channels=3)\n",
    "    image = tf.image.resize(image, [IM_SIZE, IM_SIZE]) #, method=tf.image.ResizeMethod.LANCZOS3)\n",
    "    image = custom_normalization(image)\n",
    "    return image, label\n",
    "\n",
    "# Generate dataset from file paths\n",
    "def generate_dataset(file_paths, labels, batch_size):\n",
    "    dataset = tf.data.Dataset.from_tensor_slices((file_paths, labels))\n",
    "    dataset = dataset.map(parse_image, num_parallel_calls=tf.data.AUTOTUNE)\n",
    "        \n",
    "    dataset = dataset.batch(batch_size)\n",
    "    dataset = dataset.prefetch(buffer_size=tf.data.AUTOTUNE)\n",
    "    return dataset\n",
    "\n",
    "# List image paths and labels\n",
    "def get_image_paths_and_labels(directory):\n",
    "    data_dir = Path(directory)    \n",
    "    all_image_paths = list(data_dir.glob('*/*.jpg'))\n",
    "    all_image_paths = [str(path) for path in all_image_paths]    \n",
    "    all_labels = [0 if '\\\\0' in str(path) else 1 for path in all_image_paths]\n",
    "    return all_image_paths, all_labels"
   ]
  },
  {
   "cell_type": "markdown",
   "id": "8948eaa0-926e-481b-9bde-438acb86d9f2",
   "metadata": {},
   "source": [
    "# Create Dataset"
   ]
  },
  {
   "cell_type": "code",
   "execution_count": 19,
   "id": "400321d8-3d6a-4483-82ec-0a8216b459a2",
   "metadata": {},
   "outputs": [],
   "source": [
    "# Test dataset\n",
    "test_paths, test_labels = get_image_paths_and_labels(DATASET + '/test')\n",
    "test_dataset = generate_dataset(test_paths, test_labels, BATCH_SIZE)"
   ]
  },
  {
   "cell_type": "markdown",
   "id": "3990ddbc-35fd-48fa-a981-78398a728795",
   "metadata": {},
   "source": [
    "# Load Best Models"
   ]
  },
  {
   "cell_type": "code",
   "execution_count": 41,
   "id": "d9106413-0e8e-456c-bef5-25d1196542c0",
   "metadata": {},
   "outputs": [],
   "source": [
    "m342 = load_model(os.path.join(MODELS,\"rn152v2_nn256_lr0001_relu_batch64_epoch50_v34_final.keras\"))"
   ]
  },
  {
   "cell_type": "code",
   "execution_count": 13,
   "id": "bef1043b-d0e4-497b-847f-7d57f8f1a47e",
   "metadata": {},
   "outputs": [],
   "source": [
    "m411 = load_model(os.path.join(MODELS,\"rn152v2_nn256_lr0001_relu_batch64_epoch50_v41_best.keras\"))"
   ]
  },
  {
   "cell_type": "code",
   "execution_count": 15,
   "id": "a9357114-2b14-471e-886c-a1678604870f",
   "metadata": {},
   "outputs": [],
   "source": [
    "m512 = load_model(os.path.join(MODELS,\"dn121_nn256_lr0001_relu_batch64_epoch100_v51_final.keras\"))"
   ]
  },
  {
   "cell_type": "markdown",
   "id": "329b40f8-9bfb-49ee-a261-4ff60f7d566a",
   "metadata": {},
   "source": [
    "# Evaluation"
   ]
  },
  {
   "cell_type": "code",
   "execution_count": 22,
   "id": "2504ff78-89a3-44d0-afb6-a60436a3f2b6",
   "metadata": {},
   "outputs": [
    {
     "name": "stdout",
     "output_type": "stream",
     "text": [
      "1236/1236 [==============================] - 65s 44ms/step\n"
     ]
    }
   ],
   "source": [
    "y_p_m342 = m342.predict(test_dataset).reshape(-1)"
   ]
  },
  {
   "cell_type": "code",
   "execution_count": 28,
   "id": "3e72d63b-9cdf-4066-8be4-0f618521949e",
   "metadata": {},
   "outputs": [
    {
     "name": "stdout",
     "output_type": "stream",
     "text": [
      "1236/1236 [==============================] - 55s 43ms/step\n"
     ]
    }
   ],
   "source": [
    "y_p_m411 = m411.predict(test_dataset).reshape(-1)"
   ]
  },
  {
   "cell_type": "code",
   "execution_count": 30,
   "id": "9a0f118f-6126-4e7c-8901-720c0c0f2483",
   "metadata": {},
   "outputs": [
    {
     "name": "stdout",
     "output_type": "stream",
     "text": [
      "1236/1236 [==============================] - 28s 21ms/step\n",
      "1236/1236 [==============================] - 29s 22ms/step\n"
     ]
    }
   ],
   "source": [
    "y_p_m512 = m512.predict(test_dataset).reshape(-1)"
   ]
  },
  {
   "cell_type": "code",
   "execution_count": 32,
   "id": "b1e98926-9b54-42e5-ad8b-954e25cf5db6",
   "metadata": {},
   "outputs": [],
   "source": [
    "# Collect true labels\n",
    "y_t = np.array(test_labels)"
   ]
  },
  {
   "cell_type": "code",
   "execution_count": 38,
   "id": "1f5185b3-bf3a-4904-8855-ab300c1fc30e",
   "metadata": {},
   "outputs": [
    {
     "data": {
      "image/png": "[encoded data removed]",
      "text/plain": [
       "<Figure size 800x700 with 1 Axes>"
      ]
     },
     "metadata": {},
     "output_type": "display_data"
    }
   ],
   "source": [
    "fpr342, tpr342, thr_roc342 = roc_curve(y_t, y_p_m342)\n",
    "fpr411, tpr411, thr_roc411 = roc_curve(y_t, y_p_m411)\n",
    "fpr512, tpr512, thr_roc512 = roc_curve(y_t, y_p_m512)\n",
    "\n",
    "fig = plt.figure(figsize=(8,7))\n",
    "ax = fig.add_subplot()\n",
    "plt.plot(fpr342, tpr342, 'r-', label = 'V342')\n",
    "plt.plot(fpr411, tpr411, 'y-', label = 'V411')\n",
    "plt.plot(fpr512, tpr512, 'g-', label = 'V512')\n",
    "\n",
    "\n",
    "plt.plot([0,1],[0,1],'k:',label='Random')\n",
    "plt.plot([0,0,1,1],[0,1,1,1],'k--',label='Perfect')\n",
    "plt.plot([0,1],[0.8,0.8],'k-',label='80% Recall')\n",
    "plt.legend()\n",
    "plt.title('ROC Curve')\n",
    "plt.xlabel('False Positive Rate (1 - Specifity)')\n",
    "plt.ylabel('True Positive Rate (Recall)')\n",
    "plt.grid()\n",
    "plt.show()"
   ]
  },
  {
   "cell_type": "code",
   "execution_count": 35,
   "id": "8c2c5008-5fa5-461e-9b6e-e354accf03d9",
   "metadata": {},
   "outputs": [
    {
     "name": "stdout",
     "output_type": "stream",
     "text": [
      "342:  0.1544\n",
      "411:  0.155\n",
      "512:  0.1562\n"
     ]
    }
   ],
   "source": [
    "print('pAUC - Model 342: ', round(partial_auc_score(y_t, y_p_m342), 4))\n",
    "print('pAUC - Model 411: ', round(partial_auc_score(y_t, y_p_m411), 4))\n",
    "print('pAUC - Model 512: ', round(partial_auc_score(y_t, y_p_m512), 4))"
   ]
  },
  {
   "cell_type": "code",
   "execution_count": null,
   "id": "60af962d-9da6-48d1-aad0-b117f1b0219e",
   "metadata": {},
   "outputs": [],
   "source": []
  }
 ],
 "metadata": {
  "kernelspec": {
   "display_name": ".venv_tf_gpu (py310)",
   "language": "python",
   "name": "py310"
  },
  "language_info": {
   "codemirror_mode": {
    "name": "ipython",
    "version": 3
   },
   "file_extension": ".py",
   "mimetype": "text/x-python",
   "name": "python",
   "nbconvert_exporter": "python",
   "pygments_lexer": "ipython3",
   "version": "3.10.14"
  }
 },
 "nbformat": 4,
 "nbformat_minor": 5
}
